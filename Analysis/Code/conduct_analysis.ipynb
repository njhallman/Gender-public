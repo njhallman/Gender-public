{
 "cells": [
  {
   "cell_type": "markdown",
   "metadata": {},
   "source": [
    "# Notebook setup"
   ]
  },
  {
   "cell_type": "markdown",
   "metadata": {},
   "source": [
    "## .. Import misc. Packages"
   ]
  },
  {
   "cell_type": "code",
   "execution_count": 1,
   "metadata": {},
   "outputs": [
    {
     "name": "stdout",
     "output_type": "stream",
     "text": [
      "Importing packages and set options\n"
     ]
    }
   ],
   "source": [
    "print(\"Importing packages and set options\")"
   ]
  },
  {
   "cell_type": "code",
   "execution_count": 2,
   "metadata": {},
   "outputs": [],
   "source": [
    "# Install misc packages\n",
    "import pandas as pd; pd.set_option('display.max_columns', None); pd.set_option('display.float_format', lambda x: '%.2f' % x)\n",
    "import matplotlib\n",
    "import numpy as np\n",
    "from matplotlib import pyplot as plt\n",
    "import matplotlib.patches as mpatches\n",
    "from matplotlib.ticker import StrMethodFormatter\n",
    "from matplotlib.ticker import FuncFormatter\n",
    "import seaborn as sns; sns.set()\n",
    "from lifelines import KaplanMeierFitter\n",
    "from tqdm import tqdm \n",
    "import warnings\n",
    "import gc\n",
    "import os\n",
    "import time\n",
    "\n",
    "# Start timer\n",
    "start_time = time.time()\n",
    "\n",
    "\n",
    "# Silence warning from wrds\n",
    "warnings.filterwarnings(\"ignore\", category=FutureWarning, module=\"wrds.sql\")"
   ]
  },
  {
   "cell_type": "markdown",
   "metadata": {},
   "source": [
    "## .. Import Stata"
   ]
  },
  {
   "cell_type": "code",
   "execution_count": 3,
   "metadata": {},
   "outputs": [
    {
     "name": "stdout",
     "output_type": "stream",
     "text": [
      "Importing Stata\n"
     ]
    }
   ],
   "source": [
    "print(\"Importing Stata\")"
   ]
  },
  {
   "cell_type": "code",
   "execution_count": 4,
   "metadata": {},
   "outputs": [],
   "source": [
    "# Install stata packages\n",
    "import stata_setup\n",
    "try: \n",
    "    stata_setup.config(\"/usr/local/stata\", \"se\", splash=False)\n",
    "    njh_local_env = False\n",
    "except: \n",
    "    stata_setup.config(\"/Applications/Stata\", \"se\", splash=False)\n",
    "    njh_local_env = True\n",
    "\n",
    "from pystata import stata # type: ignore"
   ]
  },
  {
   "cell_type": "code",
   "execution_count": 5,
   "metadata": {},
   "outputs": [
    {
     "name": "stdout",
     "output_type": "stream",
     "text": [
      "checking estout consistency and verifying not already installed...\n",
      "all files already exist and are up to date.\n",
      "checking reghdfe consistency and verifying not already installed...\n",
      "all files already exist and are up to date.\n",
      "checking ftools consistency and verifying not already installed...\n",
      "installing into /home/statauser/ado/plus/...\n",
      "installation complete.\n"
     ]
    }
   ],
   "source": [
    "stata.run(\"ssc install estout\")\n",
    "stata.run(\"ssc install reghdfe\")\n",
    "stata.run(\"ssc install ftools\")\n"
   ]
  },
  {
   "cell_type": "code",
   "execution_count": 6,
   "metadata": {},
   "outputs": [],
   "source": [
    "# Set directory stub\n",
    "if njh_local_env == True:\n",
    "    directory_stub = \"/Users/njhallman/GitHub\"\n",
    "else:\n",
    "    directory_stub = \"/workspaces\""
   ]
  },
  {
   "cell_type": "code",
   "execution_count": 7,
   "metadata": {},
   "outputs": [
    {
     "name": "stdout",
     "output_type": "stream",
     "text": [
      "/workspaces\n"
     ]
    }
   ],
   "source": [
    "print(directory_stub)"
   ]
  },
  {
   "cell_type": "markdown",
   "metadata": {},
   "source": [
    "## .. Write some functions"
   ]
  },
  {
   "cell_type": "code",
   "execution_count": 8,
   "metadata": {},
   "outputs": [
    {
     "name": "stdout",
     "output_type": "stream",
     "text": [
      "Writing some functions\n"
     ]
    }
   ],
   "source": [
    "print(\"Writing some functions\")"
   ]
  },
  {
   "cell_type": "code",
   "execution_count": 9,
   "metadata": {},
   "outputs": [],
   "source": [
    "def add_tabular_environment(file_path):\n",
    "    # Read the content of the file\n",
    "    with open(file_path, 'r') as file:\n",
    "        content = file.readlines()\n",
    "\n",
    "    # Determine the number of columns by finding the first line with data\n",
    "    for line in content:\n",
    "        if line.strip() and '&' in line:\n",
    "            num_columns = line.count('&') + 1\n",
    "            break\n",
    "    else:\n",
    "        print(\"No data lines found to determine the number of columns.\")\n",
    "        return\n",
    "\n",
    "    # Create the tabular start string based on the number of columns\n",
    "    tabular_start = r\"\\begin{tabular}{\" + \"l\" + \"c\" * (num_columns - 1) + r\"}\\\\[-1.8ex]\\hline \\hline \\\\[-1.8ex]\"\n",
    "    tabular_end = r\"\\\\[-1.8ex]\\hline \\hline \\\\[-1.8ex] \\end{tabular}\"\n",
    "\n",
    "    # Modify the content by adding LaTeX tabular environment\n",
    "    modified_content = tabular_start + \"\\n\" + \"\".join(content) + tabular_end\n",
    "\n",
    "    # Write the modified content back to the file\n",
    "    with open(file_path, 'w') as file:\n",
    "        file.write(modified_content)\n",
    "\n",
    "    print(f\"Tabular environment with {num_columns} columns added to {file_path}\")"
   ]
  },
  {
   "cell_type": "code",
   "execution_count": 10,
   "metadata": {},
   "outputs": [],
   "source": [
    "'''\n",
    "Setup function to replace some of the\n",
    "output of LaTeX files before sending to Overleaf\n",
    "'''\n",
    "\n",
    "def format_latex(file):\n",
    "  #read input file\n",
    "  fin = open(file, \"rt\")\n",
    "\n",
    "  #read file contents to string\n",
    "  data = fin.read()\n",
    "\n",
    "  #Variables\n",
    "  data = data.replace('retained', '\\RETAINED')\n",
    "  data = data.replace('promo', '\\PROMOTED')\n",
    "  data = data.replace('female\\_pre\\_2010', '\\FEMALExPREX')\n",
    "  data = data.replace('female\\_2010\\_2011', '\\FEMALExXtoXI')\n",
    "  data = data.replace('female\\_2012\\_2013', '\\FEMALExXIItoXIII')\n",
    "  data = data.replace('female\\_2014\\_2015', '\\FEMALExXIVtoXV')\n",
    "  data = data.replace('female\\_2016\\_2017', '\\FEMALExXVItoXVII')\n",
    "  data = data.replace('female\\_2018\\_2019', '\\FEMALExXVIIItoXIX')\n",
    "  data = data.replace('female\\_post\\_2019', '\\FEMALExPOSTXIX')\n",
    "  data = data.replace('female\\_pre\\_eq\\_1', '\\FEMALExPREEQONE')\n",
    "  data = data.replace('female\\_pre\\_eq\\_2', '\\FEMALExPREEQTWO')\n",
    "  data = data.replace('female\\_pre\\_eq\\_3', '\\FEMALExPREEQTHREE')\n",
    "  data = data.replace('female\\_post\\_eq', '\\FEMALExPOSTEQ')\n",
    "  data = data.replace('post\\_eq', '\\POSTEQ')\n",
    "  data = data.replace('pre\\_eq\\_1', '\\PREEQONE')\n",
    "  data = data.replace('pre\\_eq\\_2', '\\PREEQTWO')\n",
    "  data = data.replace('pre\\_eq\\_3', '\\PREEQTHREE')\n",
    "  data = data.replace('female', '\\FEMALE')\n",
    "  data = data.replace('topuniv', '\\TOPUNIV')\n",
    "  data = data.replace('masterorhigher', '\\MASTERS')\n",
    "  data = data.replace('api', '\\APIRACE')\n",
    "  data = data.replace('black', '\\BLACKRACE')\n",
    "  data = data.replace('other', '\\OTHERRACE')\n",
    "  data = data.replace('top\\_university', '\\TOPUNIVERSITY')\n",
    "\n",
    "\n",
    "  # Add double lines to top and bottom to match other tables\n",
    "  data = data.replace('toprule', '\\[-1.8ex]\\hline \\hline \\\\\\\\[-1.8ex]')\n",
    "  data = data.replace('bottomrule', '\\[-1.8ex]\\hline \\hline \\\\\\\\[-1.8ex]')\n",
    "\n",
    "  # Replace longtable and table formatting to make output tables just tabular\n",
    "  data = data.replace('longtable', 'tabular')\n",
    "  data = data.replace(r'\\begin{table}[!htbp] \\centering', '')\n",
    "  data = data.replace(r'\\begin{table}[!htbp] \\centering', '')\n",
    "  data = data.replace(r' \\caption{}', '')\n",
    "  data = data.replace(r'\\label{}', '')\n",
    "  data = data.replace(r'\\end{table}', '')\n",
    "\n",
    "\n",
    "  #close the input file\n",
    "  fin.close()\n",
    "\n",
    "  #open the input file in write mode\n",
    "  fin = open(file, \"wt\")\n",
    "\n",
    "  #overrite the input file with the resulting data\n",
    "  fin.write(data)\n",
    "\n",
    "  #close the file\n",
    "  fin.close()"
   ]
  },
  {
   "cell_type": "markdown",
   "metadata": {},
   "source": [
    "# Prepare Downloaded Data for Analysis"
   ]
  },
  {
   "cell_type": "markdown",
   "metadata": {},
   "source": [
    "## .. Import and prep the Revelio data"
   ]
  },
  {
   "cell_type": "code",
   "execution_count": 11,
   "metadata": {},
   "outputs": [
    {
     "name": "stdout",
     "output_type": "stream",
     "text": [
      "Importing and prepping the combined Revelio data\n"
     ]
    }
   ],
   "source": [
    "print(\"Importing and prepping the combined Revelio data\")"
   ]
  },
  {
   "cell_type": "markdown",
   "metadata": {},
   "source": [
    "### ... Import the raw data"
   ]
  },
  {
   "cell_type": "code",
   "execution_count": 12,
   "metadata": {},
   "outputs": [
    {
     "name": "stdout",
     "output_type": "stream",
     "text": [
      "Original data found - using original data\n"
     ]
    }
   ],
   "source": [
    "'''\n",
    "Import the data. If original data files are available, use those. Otherwise use the most recently downloaded files. \n",
    "'''\n",
    "\n",
    "if os.path.exists(f'{directory_stub}/Gender-public/Analysis/Data/Revelio/MSData/revelioFsPosUsr_1_of_4.feather'):\n",
    "\n",
    "    ''' \n",
    "    Use the Revelio download that creates the exact tables in the paper (will only work if you have original files, \n",
    "    not included in the public repo because I cannot publicly distribute a commercial database)\n",
    "    '''\n",
    "\n",
    "    print('Original data found - using original data')\n",
    "\n",
    "    # Read in the individual fsPosUsr files\n",
    "    revFsPosUsr1 = pd.read_feather(f'{directory_stub}/Gender-public/Analysis/Data/Revelio/MSData/revelioFsPosUsr_1_of_4.feather')\n",
    "    revFsPosUsr2 = pd.read_feather(f'{directory_stub}/Gender-public/Analysis/Data/Revelio/MSData/revelioFsPosUsr_2_of_4.feather')\n",
    "    revFsPosUsr3 = pd.read_feather(f'{directory_stub}/Gender-public/Analysis/Data/Revelio/MSData/revelioFsPosUsr_3_of_4.feather')\n",
    "    revFsPosUsr4 = pd.read_feather(f'{directory_stub}/Gender-public/Analysis/Data/Revelio/MSData/revelioFsPosUsr_4_of_4.feather')\n",
    "\n",
    "    # Combine the individual fsPosUsr files\n",
    "    revFsPosUsrRaw = pd.concat([revFsPosUsr1, revFsPosUsr2, revFsPosUsr3, revFsPosUsr4], ignore_index=True)\n",
    "\n",
    "    '''\n",
    "    Import and combine the financial services education data\n",
    "    '''\n",
    "\n",
    "    # Import individual files \n",
    "    revFsEdu1 = pd.read_feather(f'{directory_stub}/Gender-public/Analysis/Data/Revelio/MSData/revelioFsEdu_1_of_4.feather')\n",
    "    revFsEdu2 = pd.read_feather(f'{directory_stub}/Gender-public/Analysis/Data/Revelio/MSData/revelioFsEdu_2_of_4.feather')\n",
    "    revFsEdu3 = pd.read_feather(f'{directory_stub}/Gender-public/Analysis/Data/Revelio/MSData/revelioFsEdu_3_of_4.feather')\n",
    "    revFsEdu4 = pd.read_feather(f'{directory_stub}/Gender-public/Analysis/Data/Revelio/MSData/revelioFsEdu_4_of_4.feather')\n",
    "\n",
    "    # Combine the individual files\n",
    "    revFsEduRaw = pd.concat([revFsEdu1, revFsEdu2, revFsEdu3, revFsEdu4], ignore_index=True)\n",
    "\n",
    "else:\n",
    "\n",
    "    '''\n",
    "    Use a more recent version of Revelio data, which will \n",
    "    result in some (hopefully minor) differences from the publicly available version of the paper\n",
    "    '''\n",
    "\n",
    "    print('Original data NOT found - using newer data')\n",
    "\n",
    "    # Get a list of PosUser files in the ../Data/Revelio directory\n",
    "    files = [os.path.join(f\"{directory_stub}/Gender-public/Analysis/Data/Revelio/CurrentData\", f) for f in os.listdir(f'{directory_stub}/Gender-public/Analysis/Data/Revelio/CurrentData') if f.startswith(\"revelioPosUsr_role_\")]\n",
    "\n",
    "    # Read and concatenate user and position files\n",
    "    revFsPosUsrRaw = pd.concat([pd.read_feather(f) for f in files], ignore_index=True)\n",
    "\n",
    "    # Read education file\n",
    "    revFsEduRaw = pd.read_feather(f'{directory_stub}/Gender-public/Analysis/Data/Revelio/CurrentData/revelioEdu_role_combined.feather', columns=None)\n"
   ]
  },
  {
   "cell_type": "code",
   "execution_count": 13,
   "metadata": {},
   "outputs": [],
   "source": [
    "'''\n",
    "Limit educational data to the rank of the highest rated univeristy attended by each user\n",
    "'''\n",
    "\n",
    "# Create a copy of the education file for modification\n",
    "revFsEdu = revFsEduRaw.copy()\n",
    "\n",
    "# Limit education data to bachelor, masters, MBA or doctorate degrees\n",
    "revFsEdu = (\n",
    "    revFsEdu.loc[(revFsEdu['degree'] == 'Bachelor') | \n",
    "                (revFsEdu['degree'] == 'Master') | \n",
    "                (revFsEdu['degree'] == 'MBA') | \n",
    "                (revFsEdu['degree'] == 'Doctor')]\n",
    ")\n",
    "\n",
    "degree_hierarchy = {\n",
    "    'Doctor': 4,\n",
    "    'MBA': 3,\n",
    "    'Master': 2,\n",
    "    'Bachelor': 1\n",
    "}\n",
    "\n",
    "revFsEdu['degree_rank'] = revFsEdu['degree'].map(degree_hierarchy)\n",
    "\n",
    "# Convert dates to date format\n",
    "revFsEdu['enddate'] = revFsEdu['enddate'].fillna(pd.to_datetime('2025-03-01'))\n",
    "revFsEdu['enddate'] = pd.to_datetime(revFsEdu['enddate'])\n",
    "revFsEdu['startdate'] = pd.to_datetime(revFsEdu['startdate'])\n",
    "\n",
    "\n",
    "revFsEdu = revFsEdu.sort_values(['user_id','degree_rank','enddate'], ascending=[False, True, True]).groupby('user_id').tail(1)\n",
    "revFsEdu = revFsEdu[['user_id', 'university_name', 'degree']]\n"
   ]
  },
  {
   "cell_type": "code",
   "execution_count": 14,
   "metadata": {},
   "outputs": [],
   "source": [
    "'''\n",
    "Standardize unviversity names\n",
    "'''\n",
    "\n",
    "\n",
    "school_mapping = {\n",
    "\n",
    "    # UT Austin\n",
    "    'The University of Texas at Austin': 'University of Texas at Austin',\n",
    "    'McCombs School of Business at the University of Texas at Austin': 'University of Texas at Austin',\n",
    "\n",
    "    # BYU\n",
    "    'Brigham Young University': 'Brigham Young University',\n",
    "    'Brigham Young University Marriott School of Business': 'Brigham Young University',\n",
    "\n",
    "    # UIUC\n",
    "    'University of Illinois at Urbana-Champaign': 'University of Illinois at Urbana-Champaign',\n",
    "    'Gies College of Business': 'University of Illinois at Urbana-Champaign',\n",
    "\n",
    "    # Indiana\n",
    "    'Indiana University Bloomington': 'Indiana University Bloomington',\n",
    "    'Kelley School of Business': 'Indiana University Bloomington',\n",
    "\n",
    "    # Notre Dame\n",
    "    'University of Notre Dame': 'University of Notre Dame',\n",
    "    'Mendoza College of Business': 'University of Notre Dame',\n",
    "\n",
    "    # Michigan\n",
    "    'University of Michigan': 'University of Michigan',\n",
    "    'Stephen M. Ross School of Business': 'University of Michigan',\n",
    "\n",
    "    # UPenn\n",
    "    'University of Pennsylvania': 'University of Pennsylvania',\n",
    "    'Wharton School of Business at University of Pennsylvania': 'University of Pennsylvania',\n",
    "\n",
    "    # USC\n",
    "    'University of Southern California': 'University of Southern California',\n",
    "    'USC Marshall School of Business': 'University of Southern California',\n",
    "\n",
    "    # NYU\n",
    "    'New York University': 'New York University',\n",
    "    'The Leonard N Stern School of Business': 'New York University',\n",
    "    'New York University School of Law': 'New York University',\n",
    "\n",
    "    # OSU\n",
    "    'The Ohio State University': 'Ohio State University',\n",
    "    'Fisher College of Business': 'Ohio State University',\n",
    "\n",
    "    # MIT\n",
    "    'Massachusetts Institute of Technology': 'Massachusetts Institute of Technology',\n",
    "    'MIT Sloan School of Management': 'Massachusetts Institute of Technology',\n",
    "\n",
    "    # UC Berkeley\n",
    "    'University of California Berkeley': 'University of California Berkeley',\n",
    "    'Haas School of Business': 'University of California Berkeley',\n",
    "\n",
    "    # CMU\n",
    "    'Carnegie Mellon University': 'Carnegie Mellon University',\n",
    "    'Tepper School of Business': 'Carnegie Mellon University',\n",
    "\n",
    "    # UNC\n",
    "    'University of North Carolina at Chapel Hill': 'University of North Carolina at Chapel Hill',\n",
    "    'Kenan-Flagler Business School': 'University of North Carolina at Chapel Hill',\n",
    "\n",
    "    # UVA\n",
    "    'University of Virginia': 'University of Virginia',\n",
    "    'University of Virginia Darden School of Business': 'University of Virginia',\n",
    "\n",
    "    # Cornell\n",
    "    'Cornell University': 'Cornell University',\n",
    "    'Johnson Graduate School of Management': 'Cornell University',\n",
    "\n",
    "    # Stanford\n",
    "    'Stanford University': 'Stanford University',\n",
    "    'Stanford Graduate School of Business': 'Stanford University',\n",
    "\n",
    "    # Northwestern\n",
    "    'Northwestern University': 'Northwestern University',\n",
    "    'Kellogg School of Management at Northwestern University': 'Northwestern University',\n",
    "\n",
    "    # U Chicago\n",
    "    'The University of Chicago Booth School of Business': 'University of Chicago',\n",
    "    'University of Chicago': 'University of Chicago',\n",
    "\n",
    "    # Harvard\n",
    "    'Harvard University': 'Harvard University',\n",
    "    'Harvard Business School': 'Harvard University',\n",
    "    'Harvard Law School': 'Harvard University',\n",
    "\n",
    "    # Columbia\n",
    "    'Columbia University in the City of New York': 'Columbia University',\n",
    "    'Columbia Business School': 'Columbia University',\n",
    "    'Columbia Law School': 'Columbia University',\n",
    "\n",
    "    # Yale\n",
    "    'Yale University': 'Yale University',\n",
    "    'Yale School of Management': 'Yale University',\n",
    "\n",
    "    # Princeton\n",
    "    'Princeton University': 'Princeton University',\n",
    "\n",
    "    # Duke\n",
    "    'Duke University': 'Duke University',\n",
    "    'The Fuqua School of Business': 'Duke University'\n",
    "}\n",
    "\n",
    "# Map university names to standardized names\n",
    "revFsEdu['university_name'] = revFsEdu['university_name'].apply(lambda x: school_mapping.get(x, 'other'))"
   ]
  },
  {
   "cell_type": "code",
   "execution_count": 15,
   "metadata": {},
   "outputs": [
    {
     "data": {
      "text/html": [
       "<div>\n",
       "<style scoped>\n",
       "    .dataframe tbody tr th:only-of-type {\n",
       "        vertical-align: middle;\n",
       "    }\n",
       "\n",
       "    .dataframe tbody tr th {\n",
       "        vertical-align: top;\n",
       "    }\n",
       "\n",
       "    .dataframe thead th {\n",
       "        text-align: right;\n",
       "    }\n",
       "</style>\n",
       "<table border=\"1\" class=\"dataframe\">\n",
       "  <thead>\n",
       "    <tr style=\"text-align: right;\">\n",
       "      <th></th>\n",
       "      <th>university_name</th>\n",
       "      <th>user_id</th>\n",
       "    </tr>\n",
       "  </thead>\n",
       "  <tbody>\n",
       "    <tr>\n",
       "      <th>0</th>\n",
       "      <td>other</td>\n",
       "      <td>2648608</td>\n",
       "    </tr>\n",
       "    <tr>\n",
       "      <th>1</th>\n",
       "      <td>New York University</td>\n",
       "      <td>34797</td>\n",
       "    </tr>\n",
       "    <tr>\n",
       "      <th>2</th>\n",
       "      <td>University of Texas at Austin</td>\n",
       "      <td>26951</td>\n",
       "    </tr>\n",
       "    <tr>\n",
       "      <th>3</th>\n",
       "      <td>Columbia University</td>\n",
       "      <td>25549</td>\n",
       "    </tr>\n",
       "    <tr>\n",
       "      <th>4</th>\n",
       "      <td>University of Southern California</td>\n",
       "      <td>24758</td>\n",
       "    </tr>\n",
       "    <tr>\n",
       "      <th>5</th>\n",
       "      <td>University of Pennsylvania</td>\n",
       "      <td>24187</td>\n",
       "    </tr>\n",
       "    <tr>\n",
       "      <th>6</th>\n",
       "      <td>Indiana University Bloomington</td>\n",
       "      <td>23481</td>\n",
       "    </tr>\n",
       "    <tr>\n",
       "      <th>7</th>\n",
       "      <td>University of Chicago</td>\n",
       "      <td>22065</td>\n",
       "    </tr>\n",
       "    <tr>\n",
       "      <th>8</th>\n",
       "      <td>University of Illinois at Urbana-Champaign</td>\n",
       "      <td>20471</td>\n",
       "    </tr>\n",
       "    <tr>\n",
       "      <th>9</th>\n",
       "      <td>Harvard University</td>\n",
       "      <td>19495</td>\n",
       "    </tr>\n",
       "    <tr>\n",
       "      <th>10</th>\n",
       "      <td>University of Michigan</td>\n",
       "      <td>18732</td>\n",
       "    </tr>\n",
       "    <tr>\n",
       "      <th>11</th>\n",
       "      <td>University of California Berkeley</td>\n",
       "      <td>17665</td>\n",
       "    </tr>\n",
       "    <tr>\n",
       "      <th>12</th>\n",
       "      <td>Northwestern University</td>\n",
       "      <td>17515</td>\n",
       "    </tr>\n",
       "    <tr>\n",
       "      <th>13</th>\n",
       "      <td>Ohio State University</td>\n",
       "      <td>17356</td>\n",
       "    </tr>\n",
       "    <tr>\n",
       "      <th>14</th>\n",
       "      <td>Cornell University</td>\n",
       "      <td>14031</td>\n",
       "    </tr>\n",
       "    <tr>\n",
       "      <th>15</th>\n",
       "      <td>University of Virginia</td>\n",
       "      <td>12738</td>\n",
       "    </tr>\n",
       "    <tr>\n",
       "      <th>16</th>\n",
       "      <td>University of Notre Dame</td>\n",
       "      <td>12726</td>\n",
       "    </tr>\n",
       "    <tr>\n",
       "      <th>17</th>\n",
       "      <td>Brigham Young University</td>\n",
       "      <td>11416</td>\n",
       "    </tr>\n",
       "    <tr>\n",
       "      <th>18</th>\n",
       "      <td>Stanford University</td>\n",
       "      <td>10526</td>\n",
       "    </tr>\n",
       "    <tr>\n",
       "      <th>19</th>\n",
       "      <td>Duke University</td>\n",
       "      <td>10157</td>\n",
       "    </tr>\n",
       "    <tr>\n",
       "      <th>20</th>\n",
       "      <td>University of North Carolina at Chapel Hill</td>\n",
       "      <td>8713</td>\n",
       "    </tr>\n",
       "    <tr>\n",
       "      <th>21</th>\n",
       "      <td>Massachusetts Institute of Technology</td>\n",
       "      <td>6861</td>\n",
       "    </tr>\n",
       "    <tr>\n",
       "      <th>22</th>\n",
       "      <td>Yale University</td>\n",
       "      <td>6440</td>\n",
       "    </tr>\n",
       "    <tr>\n",
       "      <th>23</th>\n",
       "      <td>Carnegie Mellon University</td>\n",
       "      <td>6171</td>\n",
       "    </tr>\n",
       "    <tr>\n",
       "      <th>24</th>\n",
       "      <td>Princeton University</td>\n",
       "      <td>3176</td>\n",
       "    </tr>\n",
       "  </tbody>\n",
       "</table>\n",
       "</div>"
      ],
      "text/plain": [
       "                                university_name  user_id\n",
       "0                                         other  2648608\n",
       "1                           New York University    34797\n",
       "2                 University of Texas at Austin    26951\n",
       "3                           Columbia University    25549\n",
       "4             University of Southern California    24758\n",
       "5                    University of Pennsylvania    24187\n",
       "6                Indiana University Bloomington    23481\n",
       "7                         University of Chicago    22065\n",
       "8    University of Illinois at Urbana-Champaign    20471\n",
       "9                            Harvard University    19495\n",
       "10                       University of Michigan    18732\n",
       "11            University of California Berkeley    17665\n",
       "12                      Northwestern University    17515\n",
       "13                        Ohio State University    17356\n",
       "14                           Cornell University    14031\n",
       "15                       University of Virginia    12738\n",
       "16                     University of Notre Dame    12726\n",
       "17                     Brigham Young University    11416\n",
       "18                          Stanford University    10526\n",
       "19                              Duke University    10157\n",
       "20  University of North Carolina at Chapel Hill     8713\n",
       "21        Massachusetts Institute of Technology     6861\n",
       "22                              Yale University     6440\n",
       "23                   Carnegie Mellon University     6171\n",
       "24                         Princeton University     3176"
      ]
     },
     "execution_count": 15,
     "metadata": {},
     "output_type": "execute_result"
    }
   ],
   "source": [
    "revFsEdu.groupby('university_name')['user_id'].nunique().sort_values(ascending=False).reset_index()"
   ]
  },
  {
   "cell_type": "markdown",
   "metadata": {},
   "source": [
    "### ... Merge the positions and education data"
   ]
  },
  {
   "cell_type": "code",
   "execution_count": 16,
   "metadata": {},
   "outputs": [
    {
     "name": "stdout",
     "output_type": "stream",
     "text": [
      "Unique users in full combined dataset: 4,732,249\n",
      "Unique positions in full combined dataset: 8,992,899\n"
     ]
    }
   ],
   "source": [
    "'''\n",
    "Merge the educational data with the user and position data\n",
    "'''\n",
    "\n",
    "# Merge\n",
    "revFs = pd.merge(left = revFsPosUsrRaw, right = revFsEdu, how = 'left', on = 'user_id')\n",
    "\n",
    "# Convert date columns to datetime\n",
    "revFs['enddate'] = revFs['enddate'].fillna(pd.to_datetime('2025-01-14'))\n",
    "revFs['enddate'] = pd.to_datetime(revFs['enddate'])\n",
    "revFs['startdate'] = pd.to_datetime(revFs['startdate'])\n",
    "\n",
    "#Check the number of unique users\n",
    "unique_users_1 = len(revFs.drop_duplicates(subset = \"user_id\"))\n",
    "unique_positoins_1 = len(revFs)\n",
    "print(f'Unique users in full combined dataset: {unique_users_1:,}')\n",
    "print(f'Unique positions in full combined dataset: {unique_positoins_1:,}')"
   ]
  },
  {
   "cell_type": "markdown",
   "metadata": {},
   "source": [
    "### ... Break out auditing and other financial services into separate files"
   ]
  },
  {
   "cell_type": "code",
   "execution_count": 17,
   "metadata": {},
   "outputs": [],
   "source": [
    "'''\n",
    "Map standardized audit firm names to the raw audit firm names\n",
    "'''\n",
    "\n",
    "\n",
    "auditFirmMapping = {\n",
    "    # PwC variants\n",
    "    'PwC': 'pwc',\n",
    "    'PricewaterhouseCoopers': 'pwc',\n",
    "    'PricewaterhouseCoopers LLP': 'pwc',\n",
    "    'Price Waterhouse Coopers': 'pwc',\n",
    "    'PriceWaterhouseCoopers': 'pwc',\n",
    "    'Pricewaterhouse Coopers': 'pwc',\n",
    "    'PricewaterhouseCoopers, LLP': 'pwc',\n",
    "    \n",
    "    # Deloitte variants\n",
    "    'Deloitte': 'deloitte',\n",
    "    'Deloitte & Touche': 'deloitte',\n",
    "    'Deloitte & Touche LLP': 'deloitte',\n",
    "    'Deloitte & Touche, LLP': 'deloitte',\n",
    "    'Deloitte and Touche': 'deloitte',\n",
    "    'Deloitte (Accounting Firm)': 'deloitte',\n",
    "    \n",
    "    # EY variants\n",
    "    'EY': 'ey',\n",
    "    'Ernst & Young': 'ey',\n",
    "    'Ernst & Young LLP': 'ey',\n",
    "    'Ernst & Young, LLP': 'ey',\n",
    "    'Ernst and Young': 'ey',\n",
    "    'E & Y': 'ey',\n",
    "    \n",
    "    # KPMG variants\n",
    "    'KPMG': 'kpmg',\n",
    "    'KPMG US': 'kpmg',\n",
    "    'KPMG LLP': 'kpmg',\n",
    "    'KPMG Audit': 'kpmg',\n",
    "    'KPMG, LLP': 'kpmg',\n",
    "    'KPMG Advisory': 'kpmg'\n",
    "}\n",
    "\n",
    "# Assign standardlized firm names based on mapping\n",
    "revFs['aud_firm'] = revFs['company_raw'].map(auditFirmMapping)\n",
    "\n",
    "# Define mapping of standardized firm names to auditor_key\n",
    "auditFirmKeyMapping = {\n",
    "    'pwc' : 1,\n",
    "    'ey' : 2,\n",
    "    'deloitte' : 3,\n",
    "    'kpmg' : 4\n",
    "}\n",
    "\n",
    "# Assign auditor_key based on mapping\n",
    "revFs['auditor_key'] = revFs['aud_firm'].map(auditFirmKeyMapping)\n",
    "\n",
    "# Create the audit dataset as all auditing positions at the Big 4\n",
    "revB4Aud = revFs.loc[(revFs['auditor_key'].notnull()) & (revFs['role_k1500'].isin(['audit', 'auditor']))]\n",
    "\n",
    "# Create the other finanical services dataset as all non-auditing positions everywhere except the Big 4\n",
    "revOtherFs = revFs.loc[(revFs['auditor_key'].isnull()) & ~(revFs['role_k1500'].isin(['audit', 'auditor']))]"
   ]
  },
  {
   "cell_type": "code",
   "execution_count": 18,
   "metadata": {},
   "outputs": [
    {
     "data": {
      "text/plain": [
       "0"
      ]
     },
     "execution_count": 18,
     "metadata": {},
     "output_type": "execute_result"
    }
   ],
   "source": [
    "# Delete the individual files to free up memory\n",
    "del revFsPosUsrRaw, revFsEdu, revFsEduRaw, revFs\n",
    "gc.collect()"
   ]
  },
  {
   "cell_type": "markdown",
   "metadata": {},
   "source": [
    "### ... Print Status"
   ]
  },
  {
   "cell_type": "code",
   "execution_count": 19,
   "metadata": {},
   "outputs": [
    {
     "name": "stdout",
     "output_type": "stream",
     "text": [
      "Data import complete\n",
      "Time elapsed: 1.07 minutes\n",
      "\n"
     ]
    }
   ],
   "source": [
    "'''\n",
    "Print the time that has passed since the start of the analysis\n",
    "'''\n",
    "\n",
    "print(\"Data import complete\")\n",
    "print(f'Time elapsed: {(time.time() - start_time)/60:.2f} minutes')\n",
    "print()\n"
   ]
  },
  {
   "cell_type": "markdown",
   "metadata": {},
   "source": [
    "## .. Work with the audit dataset"
   ]
  },
  {
   "cell_type": "code",
   "execution_count": 20,
   "metadata": {},
   "outputs": [
    {
     "name": "stdout",
     "output_type": "stream",
     "text": [
      "Working with the audit dataset\n"
     ]
    }
   ],
   "source": [
    "print(\"Working with the audit dataset\")"
   ]
  },
  {
   "cell_type": "code",
   "execution_count": null,
   "metadata": {},
   "outputs": [
    {
     "name": "stdout",
     "output_type": "stream",
     "text": [
      "Unique auditors: 192,245\n",
      "Unique audit positions: 292,897\n"
     ]
    }
   ],
   "source": [
    "# Print the number of unique auditors and audit positions before data screens\n",
    "ua1 = len(revB4Aud.drop_duplicates(subset='user_id'))\n",
    "uap1 = len(revB4Aud)\n",
    "print(f'Unique auditors: {ua1:,}')\n",
    "print(f'Unique audit positions: {uap1:,}')"
   ]
  },
  {
   "cell_type": "code",
   "execution_count": 22,
   "metadata": {},
   "outputs": [
    {
     "name": "stdout",
     "output_type": "stream",
     "text": [
      "Less 2,478 auditors\n",
      "Less 3,890 positions\n"
     ]
    }
   ],
   "source": [
    "'''\n",
    "Drop positions with missing or incorrect dates\n",
    "'''\n",
    "\n",
    "# Keep rows where start data is before end date\n",
    "revB4Aud = revB4Aud[revB4Aud['startdate'] <= revB4Aud['enddate']]\n",
    "\n",
    "# Drop rows with null start data\n",
    "revB4Aud = revB4Aud[~revB4Aud['startdate'].isnull()]\n",
    "\n",
    "# Print the number of unique auditors and audit positions\n",
    "uad1 = abs(ua1 - len(revB4Aud.drop_duplicates(subset='user_id')))\n",
    "uapd1 = abs(uap1 - len(revB4Aud))\n",
    "\n",
    "print(f'Less {uad1:,} auditors')\n",
    "print(f'Less {uapd1:,} positions')"
   ]
  },
  {
   "cell_type": "code",
   "execution_count": 23,
   "metadata": {},
   "outputs": [
    {
     "name": "stdout",
     "output_type": "stream",
     "text": [
      "Less 5,258 auditors that change firms\n",
      "Less 13,652 positions related to auditors that change firms\n"
     ]
    }
   ],
   "source": [
    "'''\n",
    "Drop user_ids that switch audit firms\n",
    "'''\n",
    "\n",
    "# Identify user_ids associated with more than one aud_firm\n",
    "user_ids_multiple_firms = revB4Aud.groupby('user_id')['aud_firm'].nunique()\n",
    "user_ids_multiple_firms = user_ids_multiple_firms[user_ids_multiple_firms > 1].index\n",
    "\n",
    "# Drop these user_ids from the dataframe\n",
    "revB4Aud = revB4Aud[~revB4Aud['user_id'].isin(user_ids_multiple_firms)]\n",
    "\n",
    "#Check the number of unique users\n",
    "uad2 = abs(ua1 - uad1 - len(revB4Aud.drop_duplicates(subset='user_id')))\n",
    "uapd2 = abs(uap1 -  uapd1 - len(revB4Aud))\n",
    "print(f'Less {uad2:,} auditors that change firms')\n",
    "print(f'Less {uapd2:,} positions related to auditors that change firms')"
   ]
  },
  {
   "cell_type": "code",
   "execution_count": null,
   "metadata": {},
   "outputs": [
    {
     "name": "stdout",
     "output_type": "stream",
     "text": [
      "Less 18,125 auditors without educational data\n",
      "Less 24,495 positions related to auditors without educational data\n"
     ]
    }
   ],
   "source": [
    "'''\n",
    "Drop users missing educational data\n",
    "'''\n",
    "\n",
    "# Drop rows with missing educational data\n",
    "revB4Aud = revB4Aud[revB4Aud['highest_degree'].notnull()] \n",
    "\n",
    "#Check the number of unique users\n",
    "uad3 = abs(ua1 - uad1 - uad2 - len(revB4Aud.drop_duplicates(subset='user_id')))\n",
    "uapd3 = abs(uap1 -  uapd1 - uapd2 - len(revB4Aud))\n",
    "print(f'Less {uad3:,} auditors without educational data')\n",
    "print(f'Less {uapd3:,} positions related to auditors without educational data')"
   ]
  },
  {
   "cell_type": "code",
   "execution_count": 25,
   "metadata": {},
   "outputs": [],
   "source": [
    "'''\n",
    "Find the first start-date and last end-date in the dataset for each user \n",
    "'''\n",
    "\n",
    "# Find last end date\n",
    "revB4Aud['user_firm_enddate'] = revB4Aud.groupby('user_id')['enddate'].transform('max')\n",
    "\n",
    "# Find first start data\n",
    "revB4Aud['user_firm_startdate'] = revB4Aud.groupby('user_id')['startdate'].transform('min')"
   ]
  },
  {
   "cell_type": "code",
   "execution_count": 26,
   "metadata": {},
   "outputs": [],
   "source": [
    "'''\n",
    "Map raw position titles into standardized position titles\n",
    "'''\n",
    "\n",
    "# Standardize intern posision\n",
    "revB4Aud.loc[\n",
    "    (revB4Aud['title_raw'].str.contains('intern', case=False, na=False)), \n",
    "    'rank'\n",
    "] = 'intern'\n",
    "\n",
    "# Standardize staff posision\n",
    "revB4Aud.loc[\n",
    "    (revB4Aud['title_raw'].str.contains('associate|assoc|assistant|staff', case=False, na=False)), \n",
    "    'rank'\n",
    "] = 'staff'\n",
    "\n",
    "revB4Aud.loc[\n",
    "    (revB4Aud['title_raw'].str.lower().isin(['auditor', 'audit', 'assurance', 'external auditor', 'external audit', 'audit & assurance', 'audit assurance', 'audit and assurance'])) &\n",
    "    (revB4Aud['user_firm_enddate'] - revB4Aud['user_firm_startdate'] < pd.Timedelta(days=3*365)), \n",
    "    'rank'\n",
    "] = 'staff'\n",
    "\n",
    "# Standardize senior posision\n",
    "revB4Aud.loc[\n",
    "    (revB4Aud['title_raw'].str.contains('sr|senior|in charge|in-charge', case=False, na=False)) & \n",
    "    (~revB4Aud['title_raw'].str.contains('mgr|manager|partner|assistant|staff', case=False, na=False)), \n",
    "    'rank'\n",
    "] = 'senior'\n",
    "\n",
    "# Standardize manager posision\n",
    "revB4Aud.loc[\n",
    "    (revB4Aud['title_raw'].str.contains('mgr|manager', case=False, na=False)) & \n",
    "    (~revB4Aud['title_raw'].str.contains('sr|senior|partner', case=False, na=False)), \n",
    "    'rank'\n",
    "] = 'manager'\n",
    "\n",
    "# Standardize senior manager posision\n",
    "revB4Aud.loc[\n",
    "    (revB4Aud['title_raw'].str.contains('sr|senior', case=False, na=False)) & \n",
    "    (revB4Aud['title_raw'].str.contains('mgr|manager', case=False, na=False)) & \n",
    "    (~revB4Aud['title_raw'].str.contains('partner|director', case=False, na=False)), \n",
    "    'rank'\n",
    "] = 'senior manager'\n",
    "\n",
    "# Standardize director posision\n",
    "revB4Aud.loc[\n",
    "    (revB4Aud['title_raw'].str.contains('director', case=False, na=False)) & \n",
    "    (~revB4Aud['title_raw'].str.contains('partner', case=False, na=False)), \n",
    "    'rank'\n",
    "] = 'director'\n",
    "\n",
    "# Standardize partner posision\n",
    "revB4Aud.loc[\n",
    "    (revB4Aud['title_raw'].str.contains('partner|owner|principal', case=False, na=False)) & \n",
    "    (~revB4Aud['title_raw'].str.contains('retired', case=False, na=False)), \n",
    "    'rank'\n",
    "] = 'partner'\n",
    "\n",
    "# Create the rank_num column based on the rank column\n",
    "rankMapping = {\n",
    "    'intern': 0,\n",
    "    'staff': 1,\n",
    "    'senior': 2,\n",
    "    'manager': 3,\n",
    "    'senior manager': 4,\n",
    "    'director': 5,\n",
    "    'partner': 6\n",
    "}\n",
    "revB4Aud['rank_num'] = revB4Aud['rank'].map(rankMapping)\n"
   ]
  },
  {
   "cell_type": "code",
   "execution_count": null,
   "metadata": {},
   "outputs": [
    {
     "name": "stdout",
     "output_type": "stream",
     "text": [
      "Less 19,127 auditors who only ever work as interns\n",
      "Less 47,488 intern positions\n",
      "\n",
      "rank\n",
      "staff             77773\n",
      "senior            76965\n",
      "manager           23239\n",
      "senior manager    11257\n",
      "director           2062\n",
      "partner            2028\n",
      "Name: count, dtype: int64\n"
     ]
    }
   ],
   "source": [
    "# Drop rows where rank is intern\n",
    "revB4Aud = revB4Aud[revB4Aud['rank'] != 'intern']\n",
    "\n",
    "#Check the number of unique users\n",
    "uad4 = abs(ua1 - uad1 - uad2 - uad3 - len(revB4Aud.drop_duplicates(subset='user_id')))\n",
    "uapd4 = abs(uap1 -  uapd1 - uapd2 - uapd3 - len(revB4Aud))\n",
    "print(f'Less {uad4:,} auditors who only ever work as interns')\n",
    "print(f'Less {uapd4:,} intern positions')\n",
    "\n",
    "print()\n",
    "print(revB4Aud['rank'].value_counts())"
   ]
  },
  {
   "cell_type": "code",
   "execution_count": 28,
   "metadata": {},
   "outputs": [],
   "source": [
    "'''\n",
    "Create a varaible called bad_rank that is True if the user \n",
    "reports being a higher rank without also reporting any lower ranks\n",
    "'''\n",
    "\n",
    "# Create a bad_rank variable with a default value of False\n",
    "revB4Aud['bad_rank'] = False\n",
    "\n",
    "# Identify user_ids with at least one row with the rank 'partner'\n",
    "user_ids_with_partner = revB4Aud[revB4Aud['rank'] == 'partner']['user_id'].unique()\n",
    "\n",
    "# Identify user_ids with at least one row with the rank 'director'\n",
    "user_ids_with_director = revB4Aud[revB4Aud['rank'] == 'director']['user_id'].unique()\n",
    "\n",
    "# Identify user_ids with at least one row with the rank 'senior manager'\n",
    "user_ids_with_senior_manager = revB4Aud[revB4Aud['rank'] == 'senior manager']['user_id'].unique()\n",
    "\n",
    "# Identify user_ids with at least one row with the rank 'manager'\n",
    "user_ids_with_manager = revB4Aud[revB4Aud['rank'] == 'manager']['user_id'].unique()\n",
    "\n",
    "# Identify user_ids with at least one row with the rank 'senior'\n",
    "user_ids_with_senior = revB4Aud[revB4Aud['rank'] == 'senior']['user_id'].unique()\n",
    "\n",
    "# Identify user_ids with at least one row with the rank 'staff'\n",
    "user_ids_with_staff = revB4Aud[revB4Aud['rank'] == 'staff']['user_id'].unique()\n",
    "\n",
    "\n",
    "\n",
    "# Set bad_rank to True for user_ids that report being a senior without ever reporting being staff\n",
    "revB4Aud['bad_rank'] = revB4Aud['user_id'].isin(np.setdiff1d(user_ids_with_senior, user_ids_with_staff))\n",
    "\n",
    "# Set bad_rank to True for user_ids that report being a manager without ever reporting being a senior or staff\n",
    "revB4Aud.loc[\n",
    "    revB4Aud['user_id'].isin(np.setdiff1d(user_ids_with_manager, np.concatenate((user_ids_with_senior, user_ids_with_staff)))), 'bad_rank'] = True\n",
    "\n",
    "# Set bad_rank to True for user_ids that report being a senior manager without ever reporting being a manager, senior or staff\n",
    "revB4Aud.loc[\n",
    "    revB4Aud['user_id'].isin(np.setdiff1d(user_ids_with_senior_manager, np.concatenate((user_ids_with_manager, user_ids_with_senior, user_ids_with_staff)))), 'bad_rank'] = True\n",
    "\n",
    "# Set bad_rank to True for user_ids that report being a director without ever reporting being a senior manager, manager, senior or staff\n",
    "revB4Aud.loc[\n",
    "    revB4Aud['user_id'].isin(np.setdiff1d(user_ids_with_director, np.concatenate((user_ids_with_senior_manager, user_ids_with_manager, user_ids_with_senior, user_ids_with_staff)))), 'bad_rank'] = True\n",
    "\n",
    "# Set bad_rank to True for user_ids that report being a partner without ever reporting being a director, senior manager, manager, senior or staff\n",
    "revB4Aud.loc[\n",
    "    revB4Aud['user_id'].isin(np.setdiff1d(user_ids_with_partner, np.concatenate((user_ids_with_director, user_ids_with_senior_manager, user_ids_with_manager, user_ids_with_senior, user_ids_with_staff)))), 'bad_rank'] = True\n",
    "\n",
    "\n",
    "# Set bad_rank to True if the rank is null\n",
    "revB4Aud.loc[revB4Aud['rank'].isnull(), 'bad_rank'] = True\n",
    "\n",
    "\n",
    "# Set bad_rank to True for all rows with a given user_id if any row for that user_id has bad_rank equal to True\n",
    "revB4Aud['bad_rank'] = revB4Aud.groupby('user_id')['bad_rank'].transform('any')\n"
   ]
  },
  {
   "cell_type": "code",
   "execution_count": 29,
   "metadata": {},
   "outputs": [],
   "source": [
    "'''\n",
    "Explode dataset to create user-year panel\n",
    "'''\n",
    "\n",
    "# Create a column that lists all the years the user was in the position\n",
    "revB4Aud['position_year'] = revB4Aud.apply(lambda row: list(range(row['startdate'].year, row['enddate'].year + 1)), axis=1)\n",
    "\n",
    "# Explode the position_year column so that data becomes user-year level instead of user-position level\n",
    "revB4AudExp = (\n",
    "    revB4Aud[['user_id', 'position_id', 'fullname', 'profile_summary', 'profile_title', 'state', 'metro_area', 'user_firm_startdate', 'user_firm_enddate', 'position_year', 'auditor_key',\n",
    "            'aud_firm', 'rank', 'rank_num', 'bad_rank', 'sex_predicted', 'ethnicity_predicted', 'profile_linkedin_url', 'university_name', 'degree']].explode('position_year', ignore_index = True)\n",
    ")\n",
    "    \n",
    "# Sort the DataFrame by user_id, position_year, and rank_num\n",
    "revB4AudExp = revB4AudExp.sort_values(['user_id', 'position_year', 'rank_num'])\n",
    "\n",
    "# Drop duplicate user_id-position_year pairs, keeping the one with the highest rank_num\n",
    "revB4AudExp = revB4AudExp.drop_duplicates(['user_id', 'position_year'], keep='last')"
   ]
  },
  {
   "cell_type": "code",
   "execution_count": null,
   "metadata": {},
   "outputs": [
    {
     "name": "stdout",
     "output_type": "stream",
     "text": [
      "Unique users : 147,257\n",
      "Users-years: 766,730\n"
     ]
    }
   ],
   "source": [
    "ua2 = len(revB4AudExp.drop_duplicates(subset='user_id'))\n",
    "uay1 = len(revB4AudExp)\n",
    "\n",
    "print(f\"Unique users : {ua2:,}\")\n",
    "print(f\"Users-years: {uay1:,}\")"
   ]
  },
  {
   "cell_type": "code",
   "execution_count": 31,
   "metadata": {},
   "outputs": [],
   "source": [
    "'''\n",
    "Create variables for the user-year panel\n",
    "'''\n",
    "\n",
    "revB4AudExp['userid'] = revB4AudExp['user_id'].astype(int)\n",
    "revB4AudExp['year'] = revB4AudExp['position_year'].astype(int)\n",
    "revB4AudExp['auditorkey'] = revB4AudExp['auditor_key'].astype(int)\n",
    "revB4AudExp['retained'] = revB4AudExp['user_firm_enddate'].dt.year > revB4AudExp['year']; revB4AudExp['retained'] = revB4AudExp['retained'].astype(int)\n",
    "revB4AudExp['female'] = 0;revB4AudExp.loc[revB4AudExp['sex_predicted'] == 'F', 'female'] = 1\n",
    "revB4AudExp['rank_num'] = revB4AudExp['rank_num'].fillna(-1); revB4AudExp['positionrank'] = revB4AudExp['rank_num'].astype(int)\n",
    "revB4AudExp['badrankdummy'] = 0; revB4AudExp.loc[revB4AudExp['bad_rank'] == True, 'badrankdummy'] = 1\n",
    "revB4AudExp['yearswithfirm'] = revB4AudExp['year'] - revB4AudExp['user_firm_startdate'].dt.year\n",
    "revB4AudExp['yearfirst'] = revB4AudExp['user_firm_startdate'].dt.year\n",
    "\n",
    "revB4AudExp['white'] = (revB4AudExp['ethnicity_predicted'] == 'White').astype(int)\n",
    "revB4AudExp['api'] = (revB4AudExp['ethnicity_predicted'] == 'API').astype(int)\n",
    "revB4AudExp['black'] = (revB4AudExp['ethnicity_predicted'] == 'Black').astype(int)\n",
    "revB4AudExp['other'] = (~revB4AudExp['ethnicity_predicted'].isin(['White', 'API', 'Black'])).astype(int)\n",
    "\n",
    "revB4AudExp['masterorhigher'] = revB4AudExp['degree'].isin(['Master', 'MBA', 'Doctor']).astype(int)\n",
    "revB4AudExp['top_university'] = (revB4AudExp['university_name'] != 'other').astype(int)\n",
    "\n",
    "revB4AudExp['cpa'] = 0; revB4AudExp.loc[(revB4AudExp['profile_summary'].str.contains('cpa', case=False, na=False)) | #Can't seem to reliably identify CPAs\n",
    "                                        (revB4AudExp['profile_summary'].str.contains('certified public acc', case=False, na=False))  |\n",
    "                                        (revB4AudExp['profile_title'].str.contains('cpa', case=False, na=False)) | \n",
    "                                        (revB4AudExp['profile_title'].str.contains('certified public acc', case=False, na=False))  |\n",
    "                                        (revB4AudExp['profile_linkedin_url'].str.contains('cpa', case=False, na=False)) | \n",
    "                                        (revB4AudExp['profile_linkedin_url'].str.contains('certified public acc', case=False, na=False))  |\n",
    "                                        (revB4AudExp['fullname'].str.contains('cpa', case=False, na=False)) |\n",
    "                                        (revB4AudExp['fullname'].str.contains('certified public acc', case=False, na=False)), 'cpa'] = 1\n",
    "\n",
    "\n",
    "# Calculate the within-userid rank increase flag\n",
    "revB4AudExp.sort_values(by=[\"userid\", \"year\"], inplace=True)\n",
    "revB4AudExp[\"promo\"] = (\n",
    "    revB4AudExp.groupby(\"userid\")[\"positionrank\"].diff().gt(0).astype(int)\n",
    ")\n",
    "\n",
    "# Shift the promo flag by one year within each userid group\n",
    "revB4AudExp[\"promo\"] = (\n",
    "    revB4AudExp.groupby(\"userid\")[\"promo\"].shift(-1).fillna(0).astype(int)\n",
    ")\n",
    "\n",
    "# Create dummy variables for each two-year period\n",
    "years = list(range(2010, 2020, 2))\n",
    "\n",
    "for start_year in years:\n",
    "    end_year = start_year + 1\n",
    "    revB4AudExp[f'year_{start_year}_{end_year}'] = ((revB4AudExp['year'] == start_year) | (revB4AudExp['year'] == end_year)).astype(int)\n",
    "\n",
    "# Create a dummy variable for all years prior to 2010\n",
    "revB4AudExp['year_pre_2010'] = (revB4AudExp['year'] < 2010).astype(int)\n",
    "revB4AudExp['year_post_2019'] = (revB4AudExp['year'] > 2019).astype(int)\n",
    "\n",
    "# Create interaction terms between female and each two-year period dummy\n",
    "for start_year in years:\n",
    "    end_year = start_year + 1\n",
    "    revB4AudExp[f'female_{start_year}_{end_year}'] = revB4AudExp['female'] * revB4AudExp[f'year_{start_year}_{end_year}']\n",
    "\n",
    "# Create interaction term between female and the pre-2010 dummy\n",
    "revB4AudExp['female_pre_2010'] = revB4AudExp['female'] * revB4AudExp['year_pre_2010']\n",
    "revB4AudExp['female_post_2019'] = revB4AudExp['female'] * revB4AudExp['year_post_2019']\n",
    "\n",
    "# Create the hazard and time variables for the cox hazard model\n",
    "revB4AudExp['termination'] = 1 - revB4AudExp['retained']\n",
    "revB4AudExp['time'] = revB4AudExp['year'] - revB4AudExp['yearfirst'] + 1\n",
    "\n",
    "# Create pre/post equalized family leave policy variables\n",
    "revB4AudExp['post_eq'] = 0\n",
    "revB4AudExp.loc[(revB4AudExp['auditorkey'] == 1) & (revB4AudExp['year'] >= 2014), 'post_eq'] = 1\n",
    "revB4AudExp.loc[(revB4AudExp['auditorkey'] == 2) & (revB4AudExp['year'] >= 2016), 'post_eq'] = 1\n",
    "revB4AudExp.loc[(revB4AudExp['auditorkey'] == 3) & (revB4AudExp['year'] >= 2016), 'post_eq'] = 1\n",
    "\n",
    "revB4AudExp['pre_eq_1'] = 0\n",
    "revB4AudExp.loc[(revB4AudExp['auditorkey'] == 1) & (revB4AudExp['year'] == 2013), 'pre_eq_1'] = 1\n",
    "revB4AudExp.loc[(revB4AudExp['auditorkey'] == 2) & (revB4AudExp['year'] == 2015), 'pre_eq_1'] = 1\n",
    "revB4AudExp.loc[(revB4AudExp['auditorkey'] == 3) & (revB4AudExp['year'] == 2015), 'pre_eq_1'] = 1\n",
    "\n",
    "revB4AudExp['pre_eq_2'] = 0\n",
    "revB4AudExp.loc[(revB4AudExp['auditorkey'] == 1) & (revB4AudExp['year'] == 2012), 'pre_eq_2'] = 1\n",
    "revB4AudExp.loc[(revB4AudExp['auditorkey'] == 2) & (revB4AudExp['year'] == 2014), 'pre_eq_2'] = 1\n",
    "revB4AudExp.loc[(revB4AudExp['auditorkey'] == 3) & (revB4AudExp['year'] == 2014), 'pre_eq_2'] = 1\n",
    "\n",
    "revB4AudExp['pre_eq_3'] = 0\n",
    "revB4AudExp.loc[(revB4AudExp['auditorkey'] == 1) & (revB4AudExp['year'] == 2011), 'pre_eq_3'] = 1\n",
    "revB4AudExp.loc[(revB4AudExp['auditorkey'] == 2) & (revB4AudExp['year'] == 2013), 'pre_eq_3'] = 1\n",
    "revB4AudExp.loc[(revB4AudExp['auditorkey'] == 3) & (revB4AudExp['year'] == 2013), 'pre_eq_3'] = 1\n",
    "\n",
    "revB4AudExp['female_post_eq'] = revB4AudExp['female'] * revB4AudExp['post_eq']\n",
    "revB4AudExp['female_pre_eq_1'] = revB4AudExp['female'] * revB4AudExp['pre_eq_1']\n",
    "revB4AudExp['female_pre_eq_2'] = revB4AudExp['female'] * revB4AudExp['pre_eq_2']\n",
    "revB4AudExp['female_pre_eq_3'] = revB4AudExp['female'] * revB4AudExp['pre_eq_3']\n",
    "\n",
    "# Drop auditor-years after 2023\n",
    "revB4AudExp = revB4AudExp[revB4AudExp['position_year'] <= 2023]\n",
    "\n",
    "# Replace empty metro_area strings with NaN\n",
    "revB4AudExp['metro_area'] = revB4AudExp['metro_area'].replace(\"\", np.nan)\n",
    "\n",
    "# Convert 'metro_area' to categorical codes, keeping NaN values\n",
    "revB4AudExp['metro_area_code'] = revB4AudExp['metro_area'].astype('category').cat.codes\n",
    "\n",
    "# Set codes to NaN where metro_area was NaN\n",
    "revB4AudExp.loc[revB4AudExp['metro_area'].isna(), 'metro_area_code'] = np.nan\n",
    "\n",
    "revB4AudStata = revB4AudExp[['userid', 'year', 'auditorkey', 'retained', 'promo', 'female', 'ethnicity_predicted', \n",
    "    'positionrank', 'rank', 'badrankdummy', 'masterorhigher', 'yearswithfirm', 'yearfirst', 'cpa', 'white', 'api', 'black', \n",
    "    'other', 'metro_area', 'user_firm_startdate', 'user_firm_enddate', 'female_pre_2010', 'female_2010_2011', 'female_2012_2013', \n",
    "    'female_2014_2015', 'female_2016_2017', 'female_2018_2019', 'female_post_2019', 'termination', 'time', 'female_pre_eq_3', \n",
    "    'female_pre_eq_2', 'female_pre_eq_1', 'female_post_eq', 'pre_eq_1', 'pre_eq_2', 'pre_eq_3', 'post_eq', 'metro_area_code', \n",
    "    'university_name', 'top_university']].copy()"
   ]
  },
  {
   "cell_type": "code",
   "execution_count": null,
   "metadata": {},
   "outputs": [
    {
     "name": "stdout",
     "output_type": "stream",
     "text": [
      "Less 1,684 auditors that only appear after 2023\n",
      "Less 53,116 auditor-years after 2023\n"
     ]
    }
   ],
   "source": [
    "uad5 = abs(ua2 - len(revB4AudExp.drop_duplicates(subset='user_id')))\n",
    "uayd1 = abs(uay1 - len(revB4AudExp))\n",
    "\n",
    "print(f\"Less {uad5:,} auditors that only appear after 2023\")\n",
    "print(f\"Less {uayd1:,} auditor-years after 2023\")"
   ]
  },
  {
   "cell_type": "code",
   "execution_count": null,
   "metadata": {},
   "outputs": [
    {
     "name": "stdout",
     "output_type": "stream",
     "text": [
      "Unique users : 145,573\n",
      "Users-years: 713,614\n",
      "Unique users with good ranks: 70,516\n",
      "User-years with good ranks: 284,999\n"
     ]
    }
   ],
   "source": [
    "'''\n",
    "Print user totals\n",
    "'''\n",
    "\n",
    "ua3 = len(revB4AudStata.drop_duplicates(subset='userid'))\n",
    "uay2 = len(revB4AudStata)\n",
    "\n",
    "ua4 = len(revB4AudStata.loc[revB4AudStata['badrankdummy'] == 0].drop_duplicates(subset = 'userid'))\n",
    "uay3 = len(revB4AudStata.loc[revB4AudStata['badrankdummy'] == 0])\n",
    "\n",
    "uad6 = abs(ua3 - ua4)\n",
    "uayd2 = abs(uay2 - uay3)\n",
    "\n",
    "print(f\"Unique users : {ua3:,}\")\n",
    "print(f\"Users-years: {uay2:,}\")\n",
    "\n",
    "print(f\"Unique users with good ranks: {ua4:,}\")\n",
    "print(f\"User-years with good ranks: {uay3:,}\")\n"
   ]
  },
  {
   "cell_type": "code",
   "execution_count": 34,
   "metadata": {},
   "outputs": [
    {
     "name": "stdout",
     "output_type": "stream",
     "text": [
      "Processing audit data complete\n",
      "Time elapsed: 1.22 minutes\n",
      "\n"
     ]
    }
   ],
   "source": [
    "'''\n",
    "Print the time that has passed since the start of the analysis\n",
    "'''\n",
    "\n",
    "print(\"Processing audit data complete\")\n",
    "print(f'Time elapsed: {(time.time() - start_time)/60:.2f} minutes')\n",
    "print()\n"
   ]
  },
  {
   "cell_type": "markdown",
   "metadata": {},
   "source": [
    "## .. Work other financial services dataset"
   ]
  },
  {
   "cell_type": "code",
   "execution_count": 35,
   "metadata": {},
   "outputs": [
    {
     "name": "stdout",
     "output_type": "stream",
     "text": [
      "Working with the other financial services dataset\n"
     ]
    }
   ],
   "source": [
    "print(\"Working with the other financial services dataset\")"
   ]
  },
  {
   "cell_type": "code",
   "execution_count": 36,
   "metadata": {},
   "outputs": [
    {
     "name": "stdout",
     "output_type": "stream",
     "text": [
      "Unique fs employees: 4,289,903\n",
      "Unique fs positions: 7,682,481\n"
     ]
    }
   ],
   "source": [
    "uw1 = len(revOtherFs.drop_duplicates(subset='user_id'))\n",
    "uwp1 = len(revOtherFs)\n",
    "print(f'Unique fs employees: {uw1:,}')\n",
    "print(f'Unique fs positions: {uwp1:,}')"
   ]
  },
  {
   "cell_type": "code",
   "execution_count": 37,
   "metadata": {},
   "outputs": [
    {
     "name": "stdout",
     "output_type": "stream",
     "text": [
      "Less 490,118 workers that only have positions with missing or incorrect start dates\n",
      "Less 587,445 positions with incorrect or misisng start dates\n"
     ]
    }
   ],
   "source": [
    "'''\n",
    "Drop positions with missing or incorrect dates\n",
    "'''\n",
    "\n",
    "# Keep rows where start data is before end date\n",
    "revOtherFs = revOtherFs[revOtherFs['startdate'] <= revOtherFs['enddate']]\n",
    "\n",
    "# Drop rows with null start data\n",
    "revOtherFs = revOtherFs[~revOtherFs['startdate'].isnull()]\n",
    "\n",
    "# Print the number of unique auditors and audit positions\n",
    "uwd1 = abs(uw1 - len(revOtherFs.drop_duplicates(subset='user_id')))\n",
    "uwpd1 = abs(uwp1 - len(revOtherFs))\n",
    "\n",
    "print(f'Less {uwd1:,} workers that only have positions with missing or incorrect start dates')\n",
    "print(f'Less {uwpd1:,} positions with incorrect or misisng start dates')"
   ]
  },
  {
   "cell_type": "code",
   "execution_count": 38,
   "metadata": {},
   "outputs": [
    {
     "name": "stdout",
     "output_type": "stream",
     "text": [
      "Less 496,465 workers that only work for firms without a valid company ID\n",
      "Less 1,105,800 positions with firms that without a valid company ID\n"
     ]
    }
   ],
   "source": [
    "# Limit to positions with a valid company ID\n",
    "revOtherFs = revOtherFs[revOtherFs['ultimate_parent_rcid'].notnull()]\n",
    "revOtherFs = revOtherFs[~revOtherFs['company_raw'].str.contains(\"self-employed\", case=False, na=False)]\n",
    "revOtherFs = revOtherFs[~revOtherFs['company_raw'].str.contains(\"self employed\", case=False, na=False)]\n",
    "revOtherFs = revOtherFs[~revOtherFs['company_raw'].str.contains(\"h&r block\", case=False, na=False)]\n",
    "\n",
    "# Print the number of unique auditors and audit positions\n",
    "uwd2 = abs(uw1 - uwd1 - len(revOtherFs.drop_duplicates(subset='user_id')))\n",
    "uwpd2 = abs(uwp1 - uwpd1 - len(revOtherFs))\n",
    "\n",
    "print(f'Less {uwd2:,} workers that only work for firms without a valid company ID')\n",
    "print(f'Less {uwpd2:,} positions with firms that without a valid company ID')"
   ]
  },
  {
   "cell_type": "code",
   "execution_count": 39,
   "metadata": {},
   "outputs": [
    {
     "name": "stdout",
     "output_type": "stream",
     "text": [
      "Less 741,695 workers without educational data\n",
      "Less 1,094,455 positions associated with workers missing educational data\n"
     ]
    }
   ],
   "source": [
    "'''\n",
    "Drop users missing educational data\n",
    "'''\n",
    "\n",
    "# Drop rows with missing educational data\n",
    "revOtherFs = revOtherFs[revOtherFs['highest_degree'].notnull()] \n",
    "\n",
    "# Print the number of unique auditors and audit positions\n",
    "uwd3 = abs(uw1 - uwd1 - uwd2 - len(revOtherFs.drop_duplicates(subset='user_id')))\n",
    "uwpd3 = abs(uwp1 - uwpd1 - uwpd2 - len(revOtherFs))\n",
    "\n",
    "print(f'Less {uwd3:,} workers without educational data')\n",
    "print(f'Less {uwpd3:,} positions associated with workers missing educational data')"
   ]
  },
  {
   "cell_type": "code",
   "execution_count": 40,
   "metadata": {},
   "outputs": [
    {
     "name": "stdout",
     "output_type": "stream",
     "text": [
      "Less 123,075 workers wwho are only ever interns\n",
      "Less 320,476 intern positions\n"
     ]
    }
   ],
   "source": [
    "'''\n",
    "Drop intern positions\n",
    "'''\n",
    "\n",
    "# Drop rows with missing educational data\n",
    "revOtherFs = revOtherFs[~(revOtherFs['title_raw'].str.contains('intern', case=False, na=False))] \n",
    "\n",
    "# Print the number of unique auditors and audit positions\n",
    "uwd4 = abs(uw1 - uwd1 - uwd2 - uwd3 - len(revOtherFs.drop_duplicates(subset='user_id')))\n",
    "uwpd4 = abs(uwp1 - uwpd1 - uwpd2 - uwpd3 - len(revOtherFs))\n",
    "\n",
    "print(f'Less {uwd4:,} workers wwho are only ever interns')\n",
    "print(f'Less {uwpd4:,} intern positions')"
   ]
  },
  {
   "cell_type": "code",
   "execution_count": 41,
   "metadata": {},
   "outputs": [
    {
     "name": "stdout",
     "output_type": "stream",
     "text": [
      "Unique workers after exp 2,438,550\n",
      "Unique worker-years after exp 23,334,598\n"
     ]
    }
   ],
   "source": [
    "'''\n",
    "Explode the dataset to the employee-year level - no need to do seperate positions as not tranking rank\n",
    "'''\n",
    "\n",
    "# Sort by user_id, ultimate_parent_rcid, then startdate\n",
    "revOtherFs = revOtherFs.sort_values(['user_id', 'ultimate_parent_rcid', 'startdate'])\n",
    "\n",
    "#Flag where a new continuous spell begins (change in user, company, or a gap in dates more than 60 days)\n",
    "revOtherFs['new_spell'] = (\n",
    "    (revOtherFs['user_id'] != revOtherFs['user_id'].shift(1)) |\n",
    "    (revOtherFs['ultimate_parent_rcid'] != revOtherFs['ultimate_parent_rcid'].shift(1)) \n",
    ").astype(int)\n",
    "\n",
    "\n",
    "# Create a unique ID for each continuous user-company spell\n",
    "revOtherFs['spell_id'] = revOtherFs['new_spell'].cumsum()\n",
    "\n",
    "# For each spell, compute the earliest start date and latest end date\n",
    "revOtherFs['spell_startdate'] = revOtherFs.groupby('spell_id')['startdate'].transform('min')\n",
    "revOtherFs['spell_enddate'] = revOtherFs.groupby('spell_id')['enddate'].transform('max')\n",
    "\n",
    "# Drop duplicate user_id-spell_id pairs\n",
    "revOtherFs = revOtherFs.drop_duplicates(['user_id', 'spell_id'], keep='last')\n",
    "\n",
    "# Create a column that lists all the years the user was in the position\n",
    "revOtherFs['position_year'] = revOtherFs.apply(lambda row: list(range(row['spell_startdate'].year, row['spell_enddate'].year + 1)), axis=1)\n",
    "\n",
    "# Explode the position_year column so that data becomes user-year level instead of user-position level\n",
    "revOtherFsExp = (\n",
    "    revOtherFs[['user_id', 'fullname', 'profile_summary', 'profile_title', 'state', 'metro_area', 'spell_startdate', 'spell_enddate', 'position_year', 'sex_predicted', 'ethnicity_predicted', 'profile_linkedin_url', 'ultimate_parent_rcid', 'company_raw', 'role_k1500', 'degree', 'university_name']].explode('position_year', ignore_index = True)\n",
    ")\n",
    "\n",
    "# Sort the DataFrame by user_id, position_year\n",
    "revOtherFsExp = revOtherFsExp.sort_values(['user_id', 'position_year', 'spell_enddate'])\n",
    "\n",
    "# Drop duplicate user_id-position_year pairs\n",
    "revOtherFsExp = revOtherFsExp.drop_duplicates(['user_id', 'position_year'], keep='last')\n",
    "\n",
    "# Print the number of unique auditors and audit positions\n",
    "uw2 = len(revOtherFsExp.drop_duplicates(subset='user_id'))\n",
    "uwy1 = len(revOtherFsExp)\n",
    "print(f'Unique workers after exp {uw2:,}')\n",
    "print(f'Unique worker-years after exp {uwy1:,}')"
   ]
  },
  {
   "cell_type": "code",
   "execution_count": 42,
   "metadata": {},
   "outputs": [
    {
     "name": "stdout",
     "output_type": "stream",
     "text": [
      "Less 40,631 workers than only appear after 2023\n",
      "Less 2,208,555 worker-years after 2023\n"
     ]
    }
   ],
   "source": [
    "'''\n",
    "Print user totals\n",
    "'''\n",
    "\n",
    "revOtherFsExp = revOtherFsExp[revOtherFsExp['position_year'] <= 2023]\n",
    "\n",
    "# Print the number of unique auditors and audit positions\n",
    "uwd5 = abs(uw2 - len(revOtherFsExp.drop_duplicates(subset='user_id')))\n",
    "uwyd1 = abs(uwy1 - len(revOtherFsExp))\n",
    "\n",
    "print(f'Less {uwd5:,} workers than only appear after 2023')\n",
    "print(f'Less {uwyd1:,} worker-years after 2023')"
   ]
  },
  {
   "cell_type": "code",
   "execution_count": 43,
   "metadata": {},
   "outputs": [],
   "source": [
    "'''\n",
    "Create variables for the user-year panel\n",
    "'''\n",
    "\n",
    "revOtherFsExp['userid'] = revOtherFsExp['user_id'].astype(int)\n",
    "revOtherFsExp['year'] = revOtherFsExp['position_year'].astype(int)\n",
    "revOtherFsExp['retained'] = revOtherFsExp['spell_enddate'].dt.year > revOtherFsExp['year']; revOtherFsExp['retained'] = revOtherFsExp['retained'].astype(int)\n",
    "revOtherFsExp['female'] = 0;revOtherFsExp.loc[revOtherFsExp['sex_predicted'] == 'F', 'female'] = 1\n",
    "revOtherFsExp['yearswithfirm'] = revOtherFsExp['year'] - revOtherFsExp['spell_startdate'].dt.year\n",
    "revOtherFsExp['yearfirst'] = revOtherFsExp['spell_startdate'].dt.year\n",
    "\n",
    "revOtherFsExp['white'] = (revOtherFsExp['ethnicity_predicted'] == 'White').astype(int)\n",
    "revOtherFsExp['api'] = (revOtherFsExp['ethnicity_predicted'] == 'API').astype(int)\n",
    "revOtherFsExp['black'] = (revOtherFsExp['ethnicity_predicted'] == 'Black').astype(int)\n",
    "revOtherFsExp['other'] = (~revOtherFsExp['ethnicity_predicted'].isin(['White', 'API', 'Black'])).astype(int)\n",
    "\n",
    "revOtherFsExp['masterorhigher'] = revOtherFsExp['degree'].isin(['Master', 'MBA', 'Doctor']).astype(int)\n",
    "revOtherFsExp['top_university'] = (revOtherFsExp['university_name'] != 'other').astype(int)\n",
    "\n",
    "# Create dummy variables for each two-year period\n",
    "years = list(range(2010, 2020, 2))\n",
    "\n",
    "for start_year in years:\n",
    "    end_year = start_year + 1\n",
    "    revOtherFsExp[f'year_{start_year}_{end_year}'] = ((revOtherFsExp['year'] == start_year) | (revOtherFsExp['year'] == end_year)).astype(int)\n",
    "\n",
    "# Create a dummy variable for all years prior to 2010\n",
    "revOtherFsExp['year_pre_2010'] = (revOtherFsExp['year'] < 2010).astype(int)\n",
    "revOtherFsExp['year_post_2019'] = (revOtherFsExp['year'] > 2019).astype(int)\n",
    "\n",
    "# Create interaction terms between female and each two-year period dummy\n",
    "for start_year in years:\n",
    "    end_year = start_year + 1\n",
    "    revOtherFsExp[f'female_{start_year}_{end_year}'] = revOtherFsExp['female'] * revOtherFsExp[f'year_{start_year}_{end_year}']\n",
    "\n",
    "# Create interaction term between female and the pre-2010 dummy\n",
    "revOtherFsExp['female_pre_2010'] = revOtherFsExp['female'] * revOtherFsExp['year_pre_2010']\n",
    "revOtherFsExp['female_post_2019'] = revOtherFsExp['female'] * revOtherFsExp['year_post_2019']\n",
    "\n",
    "revOtherFsStata = revOtherFsExp[['userid', 'year', 'retained', 'female', 'ethnicity_predicted', 'masterorhigher', 'yearswithfirm', 'yearfirst', 'white', 'api', 'black', 'other', 'metro_area', 'ultimate_parent_rcid', 'company_raw', 'role_k1500', 'female_pre_2010', 'female_2010_2011', 'female_2012_2013', 'female_2014_2015', 'female_2016_2017', 'female_2018_2019', 'female_post_2019', 'university_name', 'top_university']].copy()"
   ]
  },
  {
   "cell_type": "code",
   "execution_count": 44,
   "metadata": {},
   "outputs": [
    {
     "name": "stdout",
     "output_type": "stream",
     "text": [
      "Unique workers 2,397,919\n",
      "Unique worker-years 21,126,043\n"
     ]
    }
   ],
   "source": [
    "# Print the number of unique auditors and audit positions\n",
    "uw3 = len(revOtherFsStata.drop_duplicates(subset='userid'))\n",
    "uwy2 = len(revOtherFsStata)\n",
    "print(f'Unique workers {uw3:,}')\n",
    "print(f'Unique worker-years {uwy2:,}')"
   ]
  },
  {
   "cell_type": "code",
   "execution_count": 45,
   "metadata": {},
   "outputs": [
    {
     "name": "stdout",
     "output_type": "stream",
     "text": [
      "Processing other financial services data complete\n",
      "Time elapsed: 2.84 minutes\n",
      "\n"
     ]
    }
   ],
   "source": [
    "'''\n",
    "Print the time that has passed since the start of the analysis\n",
    "'''\n",
    "\n",
    "print(\"Processing other financial services data complete\")\n",
    "print(f'Time elapsed: {(time.time() - start_time)/60:.2f} minutes')\n",
    "print()\n"
   ]
  },
  {
   "cell_type": "markdown",
   "metadata": {},
   "source": [
    "# Create Tables and Figures"
   ]
  },
  {
   "cell_type": "markdown",
   "metadata": {},
   "source": [
    "## .. Create Tables"
   ]
  },
  {
   "cell_type": "markdown",
   "metadata": {},
   "source": [
    "#### .... List of financial services roles"
   ]
  },
  {
   "cell_type": "code",
   "execution_count": 46,
   "metadata": {},
   "outputs": [
    {
     "name": "stdout",
     "output_type": "stream",
     "text": [
      "Creating a table listing financial services roles\n"
     ]
    }
   ],
   "source": [
    "print(\"Creating a table listing financial services roles\")"
   ]
  },
  {
   "cell_type": "code",
   "execution_count": 47,
   "metadata": {},
   "outputs": [],
   "source": [
    "'''\n",
    "Create table with the set of roles used\n",
    "'''\n",
    "\n",
    "# Read in a list of unique roles/mapping to FS in the Revelio data\n",
    "fsm_list = [\n",
    "    \"actuarial\",\n",
    "    \"actuarial analyst\",\n",
    "    \"actuary\",\n",
    "    \"aml analyst\",\n",
    "    \"audit\",\n",
    "    \"auditor\",\n",
    "    \"banking consultant\",\n",
    "    \"broker\",\n",
    "    \"brokerage\",\n",
    "    \"business controller\",\n",
    "    \"capital markets\",\n",
    "    \"cfo\",\n",
    "    \"commercial finance\",\n",
    "    \"commercial underwriter\",\n",
    "    \"controller\",\n",
    "    \"credit analyst\",\n",
    "    \"equity analyst\",\n",
    "    \"equity research\",\n",
    "    \"equity research analyst\",\n",
    "    \"finance controller\",\n",
    "    \"financial adviser\",\n",
    "    \"financial analyst fp a\",\n",
    "    \"financial consultant\",\n",
    "    \"financial controller\",\n",
    "    \"financial officer\",\n",
    "    \"financial planner\",\n",
    "    \"financial planning\",\n",
    "    \"financial planning analysis\",\n",
    "    \"financial planning analyst\",\n",
    "    \"financial reporting\",\n",
    "    \"financial reporting analyst\",\n",
    "    \"fraud analyst\",\n",
    "    \"fraud investigator\",\n",
    "    \"investment analyst\",\n",
    "    \"investment banking\",\n",
    "    \"investment banking analyst\",\n",
    "    \"investment consultant\",\n",
    "    \"investments\",\n",
    "    \"mergers acquisitions\",\n",
    "    \"portfolio analyst\",\n",
    "    \"pricing analyst\",\n",
    "    \"project controller\",\n",
    "    \"quantitative analyst\",\n",
    "    \"sap fico consultant\",\n",
    "    \"stock controller\",\n",
    "    \"tax\",\n",
    "    \"tax accountant\",\n",
    "    \"tax analyst\",\n",
    "    \"tax consultant\",\n",
    "    \"trade finance\",\n",
    "    \"trader\",\n",
    "    \"trading\",\n",
    "    \"underwriter\",\n",
    "    \"underwriting\"\n",
    "]\n",
    "\n",
    "# Sort the list alphabetically\n",
    "fsm_list.sort()\n",
    "\n",
    "# Split the list into two columns\n",
    "half = len(fsm_list) // 2 + len(fsm_list) % 2  # Ensure the first column has one extra row if odd\n",
    "column1 = fsm_list[:half]\n",
    "column2 = fsm_list[half:]\n",
    "\n",
    "# Create the LaTeX table\n",
    "with open(f\"{directory_stub}/Gender-public/LaTeX/Tables/rolesTable.tex\", 'w') as fout:\n",
    "    fout.write(r\"\"\"\n",
    "\\centering\n",
    "\\begin{tabular}{p{7cm}p{7cm}}\n",
    "\\toprule\n",
    "Column 1 & Column 2 \\\\\n",
    "\\midrule\n",
    "\"\"\")\n",
    "    # Add rows to the table\n",
    "    for i in range(half):\n",
    "        col1 = column1[i] if i < len(column1) else \"\"\n",
    "        col2 = column2[i] if i < len(column2) else \"\"\n",
    "        fout.write(f\"{col1} & {col2} \\\\\\\\\\n\")\n",
    "\n",
    "    fout.write(r\"\"\"\n",
    "\\bottomrule\n",
    "\\end{tabular}\n",
    "\"\"\")\n"
   ]
  },
  {
   "cell_type": "code",
   "execution_count": 48,
   "metadata": {},
   "outputs": [
    {
     "name": "stdout",
     "output_type": "stream",
     "text": [
      "Status Check\n",
      "Time elapsed: 2.85 minutes\n",
      "\n"
     ]
    }
   ],
   "source": [
    "'''\n",
    "Print the time that has passed since the start of the analysis\n",
    "'''\n",
    "\n",
    "print(\"Status Check\")\n",
    "print(f'Time elapsed: {(time.time() - start_time)/60:.2f} minutes')\n",
    "print()\n"
   ]
  },
  {
   "cell_type": "markdown",
   "metadata": {},
   "source": [
    "#### .... List of top employers in other financial services sample"
   ]
  },
  {
   "cell_type": "code",
   "execution_count": 49,
   "metadata": {},
   "outputs": [
    {
     "name": "stdout",
     "output_type": "stream",
     "text": [
      "Creating a table listing top employers in the other financial services sample\n"
     ]
    }
   ],
   "source": [
    "print(\"Creating a table listing top employers in the other financial services sample\")"
   ]
  },
  {
   "cell_type": "code",
   "execution_count": 50,
   "metadata": {},
   "outputs": [],
   "source": [
    "# Define the mapping of company names to their standardized names\n",
    "company_mapping = {\n",
    "    'Morgan Stanley': 'Morgan Stanley',\n",
    "    'Bank of America': 'Bank of America',\n",
    "    'Wells Fargo': 'Wells Fargo',\n",
    "    'Goldman Sachs': 'Goldman Sachs',\n",
    "    'Citi': 'Citi',\n",
    "    'Merrill Lynch': 'Merrill Lynch',\n",
    "    'JPMorgan Chase & Co.': 'JPMorgan Chase',\n",
    "    'J.P. Morgan': 'JPMorgan Chase',\n",
    "    'Fidelity Investments': 'Fidelity Investments',\n",
    "    'UBS': 'UBS',\n",
    "    'Credit Suisse': 'Credit Suisse',\n",
    "    'Bank of America Merrill Lynch': 'Bank of America',\n",
    "    'Deutsche Bank': 'Deutsche Bank',\n",
    "    'Charles Schwab': 'Charles Schwab',\n",
    "    'Merrill Lynch Wealth Management': 'Merrill Lynch',\n",
    "    'Prudential Financial': 'Prudential Financial',\n",
    "    'RSM US LLP': 'RSM US LLP',\n",
    "    'BNY Mellon': 'BNY Mellon',\n",
    "    'Wells Fargo Advisors': 'Wells Fargo',\n",
    "    'Edward Jones': 'Edward Jones',\n",
    "    'BlackRock': 'BlackRock',\n",
    "    'U.S. Bank': 'U.S. Bank',\n",
    "    'PNC': 'PNC',\n",
    "    'Capital One': 'Capital One',\n",
    "    'State Street': 'State Street',\n",
    "    'JPMorgan Chase': 'JPMorgan Chase',\n",
    "    'Lehman Brothers': 'Lehman Brothers',\n",
    "    'Vanguard': 'Vanguard',\n",
    "    'Ameriprise Financial Services, LLC': 'Ameriprise Financial Services, LLC',\n",
    "    'Northwestern Mutual': 'Northwestern Mutual',\n",
    "    'AIG': 'AIG',\n",
    "    'GE Capital': 'GE Capital',\n",
    "    'Internal Revenue Service': 'Internal Revenue Service',\n",
    "    'Travelers': 'Travelers',\n",
    "    'MetLife': 'MetLife',\n",
    "    'Liberty Mutual Insurance': 'Liberty Mutual Insurance',\n",
    "    'Aon': 'Aon',\n",
    "    'CBRE': 'CBRE',\n",
    "    'Raymond James': 'Raymond James',\n",
    "    'HSBC': 'HSBC',\n",
    "    'BDO USA, LLP': 'BDO USA, LLP',\n",
    "    'New York Life Insurance Company': 'New York Life Insurance Company',\n",
    "    'Primerica': 'Primerica',\n",
    "    'IBM': 'IBM',\n",
    "    'Coldwell Banker Residential Brokerage': 'Coldwell Banker Residential Brokerage',\n",
    "    'RBC Capital Markets': 'RBC Capital Markets',\n",
    "    'Barclays Investment Bank': 'Barclays Investment Bank',\n",
    "    'Citigroup': 'Citi',\n",
    "    'Arthur Andersen & Co.': 'Arthur Andersen'\n",
    "}\n",
    "\n",
    "# Standardize the company names in the DataFrame\n",
    "revOtherFsStata['company_raw_standardized'] = revOtherFsStata['company_raw'].replace(company_mapping)\n",
    "\n",
    "# Replace \"&\" with \"\\&\" in values of company_raw in revOtherFsStata\n",
    "revOtherFsStata['company_raw_standardized'] = revOtherFsStata['company_raw_standardized'].str.replace('&', r'\\&')\n",
    "\n",
    "# Get the top company_raw_standardized by row count in revOtherFsStata\n",
    "top_companies = revOtherFsStata['company_raw_standardized'].value_counts().head(50)\n",
    "\n",
    "# Split the list into two columns\n",
    "half = len(top_companies) // 2 + len(top_companies) % 2  # Ensure the first column has one extra row if odd\n",
    "column1 = top_companies.index[:half]\n",
    "column2 = top_companies.index[half:]\n",
    "\n",
    "# Create the LaTeX table\n",
    "with open(f\"{directory_stub}/Gender-public/LaTeX/Tables/topCompanies.tex\", 'w') as fout:\n",
    "    fout.write(r\"\"\"\n",
    "\\centering\n",
    "\\begin{tabular}{p{7cm}p{7cm}}\n",
    "\\toprule\n",
    "Column 1 & Column 2 \\\\\n",
    "\\midrule\n",
    "\"\"\")\n",
    "    # Add rows to the table\n",
    "    for i in range(half):\n",
    "        col1 = column1[i] if i < len(column1) else \"\"\n",
    "        col2 = column2[i] if i < len(column2) else \"\"\n",
    "        fout.write(f\"{col1} & {col2} \\\\\\\\\\n\")\n",
    "\n",
    "    fout.write(r\"\"\"\n",
    "\\bottomrule\n",
    "\\end{tabular}\n",
    "\"\"\")"
   ]
  },
  {
   "cell_type": "code",
   "execution_count": 51,
   "metadata": {},
   "outputs": [
    {
     "name": "stdout",
     "output_type": "stream",
     "text": [
      "Status Check\n",
      "Time elapsed: 3.75 minutes\n",
      "\n"
     ]
    }
   ],
   "source": [
    "'''\n",
    "Print the time that has passed since the start of the analysis\n",
    "'''\n",
    "\n",
    "print(\"Status Check\")\n",
    "print(f'Time elapsed: {(time.time() - start_time)/60:.2f} minutes')\n",
    "print()\n"
   ]
  },
  {
   "cell_type": "markdown",
   "metadata": {},
   "source": [
    "#### .... Sample construction"
   ]
  },
  {
   "cell_type": "code",
   "execution_count": 52,
   "metadata": {},
   "outputs": [
    {
     "name": "stdout",
     "output_type": "stream",
     "text": [
      "Creating a table listing the sample construction\n"
     ]
    }
   ],
   "source": [
    "print(\"Creating a table listing the sample construction\")"
   ]
  },
  {
   "cell_type": "code",
   "execution_count": 53,
   "metadata": {},
   "outputs": [],
   "source": [
    "# Write a tex file to create the auditing sample design table\n",
    "with open(f\"{directory_stub}/Gender-public/LaTeX/Tables/sampleDesign.tex\", 'w') as fout:\n",
    "    fout.write(r\"\\begin{tabular}{ l c c c}\")\n",
    "    fout.write(r\"\\\\[-1.8ex]\\hline \\hline \\\\[-1.8ex]\")\n",
    "    fout.write(r\"\\underline{Auditor sample}\")\n",
    "    fout.write(r\"& \\underline{Unique employees} & \\underline{Unique positions} & \\underline{Employee-years} \")\n",
    "    fout.write(r\"\\\\Auditors associated with Big 4 firms in Revelio data & \" + f\"{ua1:,.0f} & {uap1:,.0f} & {''}\")\n",
    "    fout.write(r\"\\\\ \\quad Less positions with missing or invalid start/end dates &\" + f\"({uad1 :,.0f}) & ({uapd1:,.0f}) & {''}\")\n",
    "    fout.write(r\"\\\\ \\quad Less auditors that move between B4 firms &\" + f\"({uad2 :,.0f}) & ({uapd2:,.0f}) & {''}\")\n",
    "    fout.write(r\"\\\\ \\quad Less auditors missing educational data &\" + f\"({uad3 :,.0f}) & ({uapd3:,.0f}) & {''}\")\n",
    "    fout.write(r\"\\\\ \\quad Less internship positions &\" + r\"\\underline{\" + f\"({uad4 :,.0f})\" + r\"} & \" + f\"({uapd4:,.0f})\" + r\" \" + f\"& {''}\")\n",
    "    fout.write(r\"\\\\ Exploded to create auditor-year sample &\" + f\"{ua2:,.0f} &  & {uay1:,.0f}\")\n",
    "    fout.write(r\"\\\\ \\quad Less auditor-years after 2023 &\" + r\"\\underline{\" + f\"({uad5:,.0f})\" + r\"} & & \\underline{\" + f\"({uayd1:,.0f})\" + r\"}\")\n",
    "    fout.write(r\"\\\\ Primary sample &\" + r\"\" + f\"{ua3 :,.0f}\" + r\"& &\" + f\"{uay2:,.0f}\" + r\"\")\n",
    "    fout.write(r\"\\\\ \\quad Less observations without reliable ranks &\" + r\"\\underline{\" + f\"({uad6 :,.0f})\" + r\"} & & \\underline{\" + f\"({uayd2:,.0f})\" + r\"}\")\n",
    "    fout.write(r\"\\\\ Sample for rank and promotion analysis &\" + f\"{ua4:,.0f} &  & {uay3:,.0f}\")\n",
    "\n",
    "\n",
    "\n",
    "    \n",
    "    fout.write(r\"\\\\\\\\ \\underline{Other financial services sample} & & &\")\n",
    "    fout.write(r\"\\\\Employees in finanical services positions comparable to auditing & \" + f\"{uw1:,.0f} & {uwp1:,.0f} & {''}\")\n",
    "    fout.write(r\"\\\\ \\quad Less positions with missing or invalid start/end dates &\" + f\"({uwd1 :,.0f}) & ({uwpd1:,.0f}) & {''}\")\n",
    "    fout.write(r\"\\\\ \\quad Less excluded companies (e.g., self-employed, H\\&R Block, no company ID) &\" + f\"({uwd2 :,.0f}) & ({uwpd2:,.0f}) & {''}\")\n",
    "    fout.write(r\"\\\\ \\quad Less employees missing educational data &\" + f\"({uwd3 :,.0f}) & ({uwpd3:,.0f}) & {''}\")\n",
    "    fout.write(r\"\\\\ \\quad Less internship positions &\" + r\"\\underline{\" + f\"({uwd4 :,.0f})\" + r\"} & \" + f\"({uwpd4:,.0f})\" + r\" \" + f\"& {''}\")\n",
    "    fout.write(r\"\\\\ Exploded to create employee-year sample &\" + f\"{uw2:,.0f} &  & {uwy1:,.0f}\")\n",
    "    fout.write(r\"\\\\ \\quad Less employee-years after 2023 &\" + r\"\\underline{\" + f\"({uwd5:,.0f})\" + r\"} & & \\underline{\" + f\"({uwyd1:,.0f})\" + r\"}\")\n",
    "    fout.write(r\"\\\\ Primary sample &\" + r\"\" + f\"{uw3 :,.0f}\" + r\"& &\" + f\"{uwy2:,.0f}\" + r\"\")\n",
    "\n",
    "    fout.write(r\"\\\\\\\\[-1.8ex]\\hline \\hline \\\\[-1.8ex]\\end{tabular}\")"
   ]
  },
  {
   "cell_type": "code",
   "execution_count": 54,
   "metadata": {},
   "outputs": [
    {
     "name": "stdout",
     "output_type": "stream",
     "text": [
      "Status Check\n",
      "Time elapsed: 3.75 minutes\n",
      "\n"
     ]
    }
   ],
   "source": [
    "'''\n",
    "Print the time that has passed since the start of the analysis\n",
    "'''\n",
    "\n",
    "print(\"Status Check\")\n",
    "print(f'Time elapsed: {(time.time() - start_time)/60:.2f} minutes')\n",
    "print()\n"
   ]
  },
  {
   "cell_type": "markdown",
   "metadata": {},
   "source": [
    "#### .... Create table with variable definitions"
   ]
  },
  {
   "cell_type": "code",
   "execution_count": 46,
   "metadata": {},
   "outputs": [
    {
     "name": "stdout",
     "output_type": "stream",
     "text": [
      "Creating variable definitions table\n"
     ]
    }
   ],
   "source": [
    "print(\"Creating variable definitions table\")\n",
    "\n",
    "# Create variable definitions table\n",
    "with open(f'{directory_stub}/Gender-public/LaTeX/Tables/VariableDefinitions.tex', 'w') as fout:\n",
    "    fout.write(r\"\\begin{longtable}{>{\\raggedright\\arraybackslash}p{3cm}p{13cm}}\")\n",
    "    fout.write(\"\\n\\n\")\n",
    "    \n",
    "    # Header/Footer Setup\n",
    "    fout.write(r\"%----- Header/Footer Setup -----%\")\n",
    "    fout.write(\"\\n\")\n",
    "    fout.write(r\"%\\captionsetup{labelfont=bf, singlelinecheck=off, justification=raggedright, labelsep=none}\")\n",
    "    fout.write(\"\\n\")\n",
    "    fout.write(r\"\\caption{Variable definitions}\")\n",
    "    fout.write(\"\\n\\n\")\n",
    "    \n",
    "    fout.write(r\"\\\\[-1.8ex]\\hline \\hline \\\\[-1.8ex]\")\n",
    "    fout.write(\"\\n\")\n",
    "    fout.write(r\"\\endfirsthead\")\n",
    "    fout.write(\"\\n\\n\")\n",
    "    \n",
    "    fout.write(r\"\\multicolumn{2}{l}%\")\n",
    "    fout.write(\"\\n\")\n",
    "    fout.write(r\"{{\\textit{Continued from previous page}}} \\\\\")\n",
    "    fout.write(\"\\n\")\n",
    "    fout.write(r\"\\midrule\")\n",
    "    fout.write(\"\\n\")\n",
    "    fout.write(r\"\\endhead\")\n",
    "    fout.write(\"\\n\\n\")\n",
    "    \n",
    "    fout.write(r\"\\multicolumn{2}{r}{{\\textit{Continued on next page}}}\")\n",
    "    fout.write(\"\\n\")\n",
    "    fout.write(r\"\\endfoot\")\n",
    "    fout.write(\"\\n\\n\")\n",
    "    \n",
    "    fout.write(r\"\\multicolumn{2}{r}{{ }}\")\n",
    "    fout.write(\"\\n\")\n",
    "    fout.write(r\"\\endlastfoot\")\n",
    "    fout.write(\"\\n\\n\")\n",
    "    \n",
    "    # Variable Definitions\n",
    "    fout.write(r\"%----- Variable Definitions -----%\")\n",
    "    fout.write(\"\\n\\n\")\n",
    "    \n",
    "    fout.write(r\"\\RETAINED & An indicator variable set equal to 1 if the professional remains with the firm the following year, 0 otherwise. \\\\\")\n",
    "    fout.write(\"\\n\")\n",
    "    fout.write(r\"\\midrule\")\n",
    "    fout.write(\"\\n\\n\")\n",
    "    \n",
    "    fout.write(r\"\\PROMOTED & An indicator variable set equal to 1 if the auditor is promoted to a higher rank in the following year, 0 otherwise. \\\\\")\n",
    "    fout.write(\"\\n\")\n",
    "    fout.write(r\"\\midrule\")\n",
    "    fout.write(\"\\n\\n\")\n",
    "    \n",
    "    fout.write(r\"\\FEMALE & An indicator variable set equal to 1 if the professional is classified as female by the \\textit{sex\\_predicted} field Revelio, and 0 otherwise. \\\\\")\n",
    "    fout.write(\"\\n\")\n",
    "    fout.write(r\"\\midrule\")\n",
    "    fout.write(\"\\n\\n\")\n",
    "    \n",
    "    fout.write(r\"\\MASTERS & An indicator variable set equal to 1 if the auditor holds a master's degree or higher, and 0 otherwise, according to the \\textit{highest\\_dgree} field in the Revelio data \\\\\")\n",
    "    fout.write(\"\\n\")\n",
    "    fout.write(r\"\\midrule\")\n",
    "    fout.write(\"\\n\\n\")\n",
    "    \n",
    "    fout.write(r\"\\TOPUNIV & An indicator variable set equal to 1 if the professional attended a top university as defined by \\textcite{FGH2022}.\\\\\")\n",
    "    fout.write(\"\\n\")\n",
    "    fout.write(r\"\\midrule\")\n",
    "    fout.write(\"\\n\\n\")\n",
    "    \n",
    "    fout.write(r\"\\APIRACE & An indicator variable set equal to 1 if the professional is classified as API (i.e., Asian and Pacific Islander) by the \\textit{ethnicity\\_predicted} field in Revelio, 0 otherwise.\\\\\")\n",
    "    fout.write(\"\\n\")\n",
    "    fout.write(r\"\\midrule\")\n",
    "    fout.write(\"\\n\\n\")\n",
    "    \n",
    "    fout.write(r\"\\BLACKRACE & An indicator variable set equal to 1 if the professional is classified as Black by the \\textit{ethnicity\\_predicted} field in Revelio, 0 otherwise.\\\\\")\n",
    "    fout.write(\"\\n\")\n",
    "    fout.write(r\"\\midrule\")\n",
    "    fout.write(\"\\n\\n\")\n",
    "    \n",
    "    fout.write(r\"\\OTHERRACE & An indicator variable set equal to 1 if the professional is classified as any ethnicity other than API, Black, or White by the \\textit{ethnicity\\_predicted} field in Revelio, 0 otherwise.\\\\\")\n",
    "    fout.write(\"\\n\\n\")\n",
    "    \n",
    "    fout.write(r\"\\\\[-1.8ex]\\hline \\hline \\\\[-1.8ex]\")\n",
    "    fout.write(\"\\n\\n\")\n",
    "    \n",
    "    fout.write(r\"\\label{appendix:variableDefinitions}\")\n",
    "    fout.write(\"\\n\")\n",
    "    fout.write(r\"\\end{longtable}\")\n",
    "    fout.write(\"\\n\\n\\n\")\n"
   ]
  },
  {
   "cell_type": "code",
   "execution_count": 56,
   "metadata": {},
   "outputs": [
    {
     "name": "stdout",
     "output_type": "stream",
     "text": [
      "Status Check\n",
      "Time elapsed: 3.75 minutes\n",
      "\n"
     ]
    }
   ],
   "source": [
    "'''\n",
    "Print the time that has passed since the start of the analysis\n",
    "'''\n",
    "\n",
    "print(\"Status Check\")\n",
    "print(f'Time elapsed: {(time.time() - start_time)/60:.2f} minutes')\n",
    "print()"
   ]
  },
  {
   "cell_type": "markdown",
   "metadata": {},
   "source": [
    "#### .... Summary statistics"
   ]
  },
  {
   "cell_type": "code",
   "execution_count": 57,
   "metadata": {},
   "outputs": [
    {
     "name": "stdout",
     "output_type": "stream",
     "text": [
      "Creating summary statistics\n"
     ]
    }
   ],
   "source": [
    "print(\"Creating summary statistics\")"
   ]
  },
  {
   "cell_type": "code",
   "execution_count": 58,
   "metadata": {},
   "outputs": [],
   "source": [
    "revB4AudStata.loc[revB4AudStata['badrankdummy'] == 1, 'promo'] = np.nan"
   ]
  },
  {
   "cell_type": "code",
   "execution_count": 59,
   "metadata": {},
   "outputs": [
    {
     "name": "stdout",
     "output_type": "stream",
     "text": [
      "\n",
      "Tabular environment with 5 columns added to /workspaces/Gender-public/LaTeX/Tables/summaryStats.tex\n"
     ]
    }
   ],
   "source": [
    "stata.pdataframe_to_data(revB4AudStata, force=True)\n",
    "\n",
    "stata.run('eststo female : estpost sum retained promo top_university masterorhigher api black other if female == 1', quietly = True)\n",
    "stata.run('local N_female : display %12.0fc e(N)', quietly = True)\n",
    "\n",
    "stata.run('eststo male : estpost sum retained promo top_university masterorhigher api black other if female == 0', quietly = True)\n",
    "stata.run('local N_male : display %12.0fc e(N)', quietly = True)\n",
    "\n",
    "stata.run('eststo tot : estpost sum retained promo top_university masterorhigher api black other', quietly = True)\n",
    "stata.run('local N_tot : display %12.0fc e(N)', quietly = True)\n",
    "\n",
    "stata.run('eststo diff : estpost ttest retained promo top_university masterorhigher api black other, by(female) unequal', quietly = True)\n",
    "\n",
    "stata.run(\n",
    "f'''\n",
    "esttab tot female male diff using {directory_stub}/Gender-public/LaTeX/Tables/summaryStats.tex, replace nostar unstack label nonum f noobs nogaps booktabs ///\n",
    "    mlabels(\"\\hspace{{1.2mm}} Total (N = `N_tot') \\hspace{{1.1mm}}\" \"\\hspace{{1.2mm}} Female (N = `N_female') \\hspace{{1.1mm}}\" \"\\hspace{{1.2mm}} Male (N = `N_male') \\hspace{{1.1mm}}\" \" \\hspace{{1.1mm}} Difference  \\hspace{{1.1mm}}\") ///\n",
    "    cells(\"mean(fmt(3) pattern(1 1 1 0)) p(fmt(3) pattern(0 0 0 1))\" sd(fmt(3)par pattern(1 1 1 0)))  \n",
    "''', quietly = True)\n",
    "\n",
    "# Prepare LaTeX file\n",
    "add_tabular_environment(f'{directory_stub}/Gender-public/LaTeX/Tables/summaryStats.tex')\n",
    "format_latex(f'{directory_stub}/Gender-public/LaTeX/Tables/summaryStats.tex')\n"
   ]
  },
  {
   "cell_type": "code",
   "execution_count": 60,
   "metadata": {},
   "outputs": [
    {
     "name": "stdout",
     "output_type": "stream",
     "text": [
      "\n",
      "Tabular environment with 5 columns added to /workspaces/Gender-public/LaTeX/Tables/summaryStatsFs.tex\n"
     ]
    }
   ],
   "source": [
    "stata.pdataframe_to_data(revOtherFsStata, force=True)\n",
    "\n",
    "stata.run('eststo female : estpost sum retained top_university masterorhigher api black other if female == 1', quietly = True)\n",
    "stata.run('local N_female : display %12.0fc e(N)', quietly = True)\n",
    "\n",
    "stata.run('eststo male : estpost sum retained top_university masterorhigher api black other if female == 0', quietly = True)\n",
    "stata.run('local N_male : display %12.0fc e(N)', quietly = True)\n",
    "\n",
    "stata.run('eststo tot : estpost sum retained top_university masterorhigher api black other', quietly = True)\n",
    "stata.run('local N_tot : display %12.0fc e(N)', quietly = True)\n",
    "\n",
    "stata.run('eststo diff : estpost ttest retained top_university masterorhigher api black other, by(female) unequal', quietly = True)\n",
    "\n",
    "stata.run(\n",
    "f'''\n",
    "esttab tot female male diff using {directory_stub}/Gender-public/LaTeX/Tables/summaryStatsFs.tex, replace nostar unstack label nonum f noobs nogaps booktabs ///\n",
    "    mlabels(\"Total (N = `N_tot')\" \"Female (N = `N_female')\" \"Male (N = `N_male')\" \"Difference\") ///\n",
    "    cells(\"mean(fmt(3) pattern(1 1 1 0)) p(fmt(3) pattern(0 0 0 1))\" sd(fmt(3)par pattern(1 1 1 0)))  \n",
    "''', quietly = True)\n",
    "\n",
    "# Prepare LaTeX file\n",
    "add_tabular_environment(f'{directory_stub}/Gender-public/LaTeX/Tables/summaryStatsFs.tex')\n",
    "format_latex(f'{directory_stub}/Gender-public/LaTeX/Tables/summaryStatsFs.tex')\n"
   ]
  },
  {
   "cell_type": "code",
   "execution_count": 61,
   "metadata": {},
   "outputs": [
    {
     "name": "stdout",
     "output_type": "stream",
     "text": [
      "Status Check\n",
      "Time elapsed: 12.10 minutes\n",
      "\n"
     ]
    }
   ],
   "source": [
    "'''\n",
    "Print the time that has passed since the start of the analysis\n",
    "'''\n",
    "\n",
    "print(\"Status Check\")\n",
    "print(f'Time elapsed: {(time.time() - start_time)/60:.2f} minutes')\n",
    "print()\n"
   ]
  },
  {
   "cell_type": "markdown",
   "metadata": {},
   "source": [
    "#### .... Primary model and comparison to other FS employees"
   ]
  },
  {
   "cell_type": "code",
   "execution_count": 62,
   "metadata": {},
   "outputs": [
    {
     "name": "stdout",
     "output_type": "stream",
     "text": [
      "Creating a table with the primary model and comparing to other FS employees\n"
     ]
    }
   ],
   "source": [
    "print(\"Creating a table with the primary model and comparing to other FS employees\")"
   ]
  },
  {
   "cell_type": "code",
   "execution_count": 63,
   "metadata": {},
   "outputs": [
    {
     "name": "stdout",
     "output_type": "stream",
     "text": [
      "\n"
     ]
    }
   ],
   "source": [
    "# Auditor Regressions\n",
    "stata.pdataframe_to_data(revB4AudStata, force=True)\n",
    "\n",
    "stata.run(f'reghdfe retained female_pre_2010 female_2010_2011 female_2012_2013 female_2014_2015 female_2016_2017 female_2018_2019 female_post_2019 masterorhigher top_university api black other, absorb(auditorkey ib2000.year yearfirst) vce(cluster userid)', quietly = True)\n",
    "stata.run(f'estadd local fetypes \"C,Y,E\"', quietly = True)\n",
    "stata.run(f'est store model_aud_1', quietly = True)\n",
    "\n",
    "\n",
    "# Financial Services Regressions\n",
    "stata.pdataframe_to_data(revOtherFsStata, force=True)\n",
    "\n",
    "stata.run(f'reghdfe retained female_pre_2010 female_2010_2011 female_2012_2013 female_2014_2015 female_2016_2017 female_2018_2019 female_post_2019 masterorhigher top_university api black other if strpos(role_k1500, \"investment bank\"), absorb(ultimate_parent_rcid ib2000.year yearfirst) vce(cluster userid)', quietly=True)\n",
    "stata.run(f'estadd local fetypes \"C,Y,E\"', quietly = True)\n",
    "stata.run(f'est store model_ib_1', quietly = True)\n",
    "\n",
    "stata.run(f'reghdfe retained female_pre_2010 female_2010_2011 female_2012_2013 female_2014_2015 female_2016_2017 female_2018_2019 female_post_2019 masterorhigher top_university api black other if strpos(role_k1500, \"credit analyst\"), absorb(ultimate_parent_rcid ib2000.year yearfirst) vce(cluster userid)', quietly=True)\n",
    "stata.run(f'estadd local fetypes \"C,Y,E\"', quietly = True)\n",
    "stata.run(f'est store model_ca_1', quietly = True)\n",
    "\n",
    "stata.run(f'reghdfe retained female_pre_2010 female_2010_2011 female_2012_2013 female_2014_2015 female_2016_2017 female_2018_2019 female_post_2019 masterorhigher top_university api black other, absorb(ultimate_parent_rcid ib2000.year yearfirst) vce(cluster userid)', quietly = True)\n",
    "stata.run(f'estadd local fetypes \"C,Y,E\"', quietly = True)\n",
    "stata.run(f'est store model_fs_1', quietly = True)\n",
    "\n",
    "# Create the LaTeX table\n",
    "stata.run(\n",
    "f'''\n",
    "esttab model_aud_1 model_fs_1 model_ib_1 model_ca_1 using {directory_stub}/Gender-public/LaTeX/Tables/interactionModels.tex, ///\n",
    "    replace ///\n",
    "    label ///\n",
    "    b(%9.3f) se(%9.3f) ///\n",
    "    star(* 0.10 ** 0.05 *** 0.01) ///\n",
    "    nogaps ///\n",
    "    stats(N r2_a fetypes, fmt(%12.0fc %12.3f) labels(\"Observations\" \"Adjusted R-squared\" \"Fixed effects\")) ///\n",
    "    booktabs ///\n",
    "    alignment(D{{.}}{{.}}{{-1}}) ///\n",
    "    nonotes ///\n",
    "    mtitles(\"\\shortstack{{Auditors\\\\\\\\ DV = Retained}}\" ///\n",
    "            \"\\shortstack{{Other Financial Svc.\\\\\\\\ DV = Retained}}\" ///\n",
    "            \"\\shortstack{{Investment Bankers\\\\\\\\ DV = Retained}}\" ///\n",
    "            \"\\shortstack{{Credit Analysts\\\\\\\\ DV = Retained}}\")''', quietly = True)\n",
    "\n",
    "# Prepare LaTeX file\n",
    "format_latex(f'{directory_stub}/Gender-public/LaTeX/Tables/interactionModels.tex')"
   ]
  },
  {
   "cell_type": "code",
   "execution_count": 64,
   "metadata": {},
   "outputs": [
    {
     "name": "stdout",
     "output_type": "stream",
     "text": [
      "Status Check\n",
      "Time elapsed: 28.03 minutes\n",
      "\n"
     ]
    }
   ],
   "source": [
    "'''\n",
    "Print the time that has passed since the start of the analysis\n",
    "'''\n",
    "\n",
    "print(\"Status Check\")\n",
    "print(f'Time elapsed: {(time.time() - start_time)/60:.2f} minutes')\n",
    "print()\n"
   ]
  },
  {
   "cell_type": "markdown",
   "metadata": {},
   "source": [
    "#### .... Robustness and other analysis"
   ]
  },
  {
   "cell_type": "code",
   "execution_count": 65,
   "metadata": {},
   "outputs": [
    {
     "name": "stdout",
     "output_type": "stream",
     "text": [
      "Creating a table with robustness and other analysis\n"
     ]
    }
   ],
   "source": [
    "print(\"Creating a table with robustness and other analysis\")"
   ]
  },
  {
   "cell_type": "code",
   "execution_count": 66,
   "metadata": {},
   "outputs": [
    {
     "name": "stdout",
     "output_type": "stream",
     "text": [
      "\n"
     ]
    }
   ],
   "source": [
    "revB4AudStata['university_id'] = pd.Categorical(revB4AudStata['university_name']).codes + 1\n",
    "\n",
    "stata.pdataframe_to_data(revB4AudStata, force=True)\n",
    "\n",
    "stata.run(f'stset time, id(userid) failure(termination)', quietly = True)\n",
    "stata.run(f'stcox female_pre_2010 female_2010_2011 female_2012_2013 female_2014_2015 female_2016_2017 female_2018_2019 female_post_2019 top_university masterorhigher api black other i.auditorkey i.year, vce(robust)', quietly = True)\n",
    "stata.run('estadd local fetypes \"Y,E\"', quietly=True)\n",
    "stata.run('est store model_cox_1', quietly=True)\n",
    "\n",
    "stata.run(f'reghdfe retained female_pre_2010 female_2010_2011 female_2012_2013 female_2014_2015 female_2016_2017 female_2018_2019 female_post_2019 top_university masterorhigher api black other, absorb(auditorkey yearfirst year##metro_area_code) vce(cluster userid)', quietly = True)\n",
    "stata.run(f'estadd local fetypes \"C,E,Y*M\"', quietly = True)\n",
    "stata.run(f'est store model_loc_1', quietly = True)\n",
    "\n",
    "\n",
    "# Create the LaTeX table\n",
    "stata.run(\n",
    "f'''\n",
    "esttab model_cox_1 model_loc_1 using {directory_stub}/Gender-public/LaTeX/Tables/robustnessModels.tex, ///\n",
    "    replace ///\n",
    "    label ///\n",
    "    b(%9.3f) se(%9.3f) ///\n",
    "    star(* 0.10 ** 0.05 *** 0.01) ///\n",
    "    nogaps ///\n",
    "    stats(N r2_a fetypes, fmt(%12.0fc %12.3f) labels(\"Observations\" \"Adjusted R-squared\" \"Fixed effects\")) ///\n",
    "    drop(*auditorkey* *year* masterorhigher api black other top_university) ///\n",
    "    booktabs ///\n",
    "    alignment(D{{.}}{{.}}{{-1}}) ///\n",
    "    nonotes ///\n",
    "    mtitles(\"\\shortstack{{Auditors\\\\\\\\ DV = Hazard}}\" ///\n",
    "            \"\\shortstack{{Auditors\\\\\\\\ DV = Retained}}\")''', quietly = True)\n",
    "\n",
    "#Prepare LaTeX file\n",
    "format_latex(f'{directory_stub}/Gender-public/LaTeX/Tables/robustnessModels.tex')"
   ]
  },
  {
   "cell_type": "code",
   "execution_count": 67,
   "metadata": {},
   "outputs": [
    {
     "name": "stdout",
     "output_type": "stream",
     "text": [
      "Status Check\n",
      "Time elapsed: 32.20 minutes\n",
      "\n"
     ]
    }
   ],
   "source": [
    "'''\n",
    "Print the time that has passed since the start of the analysis\n",
    "'''\n",
    "\n",
    "print(\"Status Check\")\n",
    "print(f'Time elapsed: {(time.time() - start_time)/60:.2f} minutes')\n",
    "print()\n"
   ]
  },
  {
   "cell_type": "markdown",
   "metadata": {},
   "source": [
    "#### .... Promotion"
   ]
  },
  {
   "cell_type": "code",
   "execution_count": 68,
   "metadata": {},
   "outputs": [
    {
     "name": "stdout",
     "output_type": "stream",
     "text": [
      "Creating a table with the promotion model\n"
     ]
    }
   ],
   "source": [
    "print(\"Creating a table with the promotion model\")"
   ]
  },
  {
   "cell_type": "code",
   "execution_count": 69,
   "metadata": {},
   "outputs": [
    {
     "name": "stdout",
     "output_type": "stream",
     "text": [
      "\n"
     ]
    }
   ],
   "source": [
    "stata.pdataframe_to_data(revB4AudStata, force=True)\n",
    "\n",
    "stata.run(f'reghdfe promo female_pre_2010 female_2010_2011 female_2012_2013 female_2014_2015 female_2016_2017 female_2018_2019 female_post_2019 top_university masterorhigher api black other if badrankdummy == 0 & positionrank < 6 & retained == 1, absorb(auditorkey year yearfirst) vce(cluster userid)', quietly = True)\n",
    "stata.run(f'estadd local fetypes \"C,Y,E\"', quietly = True)\n",
    "stata.run(f'est store model_promo_1', quietly = True)\n",
    "\n",
    "# Create the LaTeX table\n",
    "stata.run(\n",
    "f'''\n",
    "esttab model_promo_1 using {directory_stub}/Gender-public/LaTeX/Tables/promotionModels.tex, ///\n",
    "    replace ///\n",
    "    label ///\n",
    "    b(%9.3f) se(%9.3f) ///\n",
    "    star(* 0.10 ** 0.05 *** 0.01) ///\n",
    "    nogaps ///\n",
    "    stats(N r2_a fetypes, fmt(%12.0fc %12.3f) labels(\"Observations \\quad \\quad \\quad \\quad \\quad \\quad \\quad \\quad \\quad \\quad \\quad \\quad \" \"Adjusted R-squared\" \"Fixed effects\")) ///\n",
    "    drop(masterorhigher api black other top_university) ///\n",
    "    booktabs ///\n",
    "    alignment(D{{.}}{{.}}{{-1}}) ///\n",
    "    nonotes ///\n",
    "    mtitles(\"\\shortstack{{Retained\\\\\\\\Auditors < Partner\\\\\\\\ DV = Promoted}}\")''', quietly = True)\n",
    "\n",
    "#Prepare LaTeX file\n",
    "format_latex(f'{directory_stub}/Gender-public/LaTeX/Tables/promotionModels.tex')"
   ]
  },
  {
   "cell_type": "code",
   "execution_count": 70,
   "metadata": {},
   "outputs": [
    {
     "name": "stdout",
     "output_type": "stream",
     "text": [
      "Status Check\n",
      "Time elapsed: 32.62 minutes\n",
      "\n"
     ]
    }
   ],
   "source": [
    "'''\n",
    "Print the time that has passed since the start of the analysis\n",
    "'''\n",
    "\n",
    "print(\"Status Check\")\n",
    "print(f'Time elapsed: {(time.time() - start_time)/60:.2f} minutes')\n",
    "print()\n"
   ]
  },
  {
   "cell_type": "markdown",
   "metadata": {},
   "source": [
    "#### .... Equalized leave implementation"
   ]
  },
  {
   "cell_type": "code",
   "execution_count": 71,
   "metadata": {},
   "outputs": [
    {
     "name": "stdout",
     "output_type": "stream",
     "text": [
      "Creating a table with the equalized leave implementation\n"
     ]
    }
   ],
   "source": [
    "print(\"Creating a table with the equalized leave implementation\")"
   ]
  },
  {
   "cell_type": "code",
   "execution_count": 72,
   "metadata": {},
   "outputs": [
    {
     "name": "stdout",
     "output_type": "stream",
     "text": [
      "\n"
     ]
    }
   ],
   "source": [
    "# Auditor Regressions\n",
    "stata.pdataframe_to_data(revB4AudStata, force=True)\n",
    "\n",
    "stata.run(f'reghdfe retained female female_pre_eq_3 female_pre_eq_2 female_pre_eq_1 female_post_eq pre_eq_1 pre_eq_2 pre_eq_3 post_eq masterorhigher top_university api black other, absorb(auditorkey year yearfirst) vce(cluster userid)', quietly = True)\n",
    "stata.run(f'estadd local fetypes \"C,Y,E\"', quietly = True)\n",
    "stata.run(f'est store model_eqfam_1', quietly = True)\n",
    "\n",
    "stata.run(f'reghdfe promo female female_pre_eq_3 female_pre_eq_2 female_pre_eq_1 female_post_eq pre_eq_1 pre_eq_2 pre_eq_3 post_eq masterorhigher top_university api black other if badrankdummy == 0 & positionrank < 6 & retained == 1, absorb(auditorkey year yearfirst) vce(cluster userid)', quietly = True)\n",
    "stata.run(f'estadd local fetypes \"C,Y,E\"', quietly = True)\n",
    "stata.run(f'est store model_eqfam_2', quietly = True)\n",
    "\n",
    "stata.run(\n",
    "f'''\n",
    "esttab model_eqfam_1 model_eqfam_2 using \"{directory_stub}/Gender-public/LaTeX/Tables/eqFamModels.tex\", ///\n",
    "    replace ///\n",
    "    label ///\n",
    "    b(%9.3f) se(%9.3f) ///\n",
    "    star(* 0.10 ** 0.05 *** 0.01) ///\n",
    "    nogaps ///\n",
    "    drop(top_university masterorhigher api black other pre_eq_1 pre_eq_2 pre_eq_3) ///\n",
    "    stats(N r2_a fetypes, fmt(%12.0fc %12.3f) labels(\"{{Observations}}\" \"{{Adjusted R-squared}}\" \"{{Fixed effects}}\")) ///\n",
    "    booktabs ///\n",
    "    alignment(D{{.}}{{.}}{{-1}}) ///\n",
    "    nonotes ///\n",
    "    mtitles(\"\\shortstack{{Auditors\\\\\\\\ DV = Retained}}\" \"\\shortstack{{Retained\\\\\\\\Auditors < Partner\\\\\\\\ DV = Promoted}}\")''', quietly=True)\n",
    "\n",
    "#Prepare LaTeX file\n",
    "format_latex(f'{directory_stub}/Gender-public/LaTeX/Tables/eqFamModels.tex')"
   ]
  },
  {
   "cell_type": "code",
   "execution_count": 73,
   "metadata": {},
   "outputs": [
    {
     "name": "stdout",
     "output_type": "stream",
     "text": [
      "Status Check\n",
      "Time elapsed: 33.31 minutes\n",
      "\n"
     ]
    }
   ],
   "source": [
    "'''\n",
    "Print the time that has passed since the start of the analysis\n",
    "'''\n",
    "\n",
    "print(\"Status Check\")\n",
    "print(f'Time elapsed: {(time.time() - start_time)/60:.2f} minutes')\n",
    "print()\n"
   ]
  },
  {
   "cell_type": "markdown",
   "metadata": {},
   "source": [
    "## .. Create Figures"
   ]
  },
  {
   "cell_type": "markdown",
   "metadata": {},
   "source": [
    "#### .... Auditors by year stack plot"
   ]
  },
  {
   "cell_type": "code",
   "execution_count": 74,
   "metadata": {},
   "outputs": [
    {
     "name": "stdout",
     "output_type": "stream",
     "text": [
      "Creating a stackplot of auditors by year\n"
     ]
    }
   ],
   "source": [
    "print(\"Creating a stackplot of auditors by year\")"
   ]
  },
  {
   "cell_type": "code",
   "execution_count": 75,
   "metadata": {},
   "outputs": [
    {
     "data": {
      "image/png": "[encoded data removed]",
      "text/plain": [
       "<Figure size 1200x800 with 1 Axes>"
      ]
     },
     "metadata": {},
     "output_type": "display_data"
    }
   ],
   "source": [
    "# Create a new dataset that can be used to create a stackplot\n",
    "revB4AudExpSP = revB4AudExp.copy()\n",
    "revB4AudExpSP.loc[revB4AudExpSP['badrankdummy'] == 1, 'positionrank'] = 0\n",
    "\n",
    "# Group data by year, female, and positionrank, then count occurrences\n",
    "revB4AudStata_grouped = (\n",
    "    revB4AudExpSP.groupby([\"year\", \"female\", \"positionrank\"])\n",
    "    .size()\n",
    "    .reset_index(name=\"count\")\n",
    ")\n",
    "\n",
    "# Create pivot table for the stackplot\n",
    "revB4AudStata_pivot = revB4AudStata_grouped.pivot_table(\n",
    "    index=\"year\", columns=[\"female\", \"positionrank\"], values=\"count\", fill_value=0\n",
    ")\n",
    "\n",
    "# Define hard-coded fill patterns and progressive colors for ranks 0 to 6\n",
    "male_cmap = plt.cm.Blues\n",
    "female_cmap = plt.cm.Greens\n",
    "male_colors = {rank: male_cmap(0.3 + 0.6 * (rank - 1) / 5) if rank > 0 else male_cmap(0.1) for rank in range(0, 7)}\n",
    "female_colors = {rank: female_cmap(0.3 + 0.6 * (rank - 1) / 5) if rank > 0 else female_cmap(0.1) for rank in range(0, 7)}\n",
    "patterns = {0: \"\", 1: \"+\", 2: \"/\", 3: \".\", 4: \"*\", 5: \"o\", 6: \"\\\\\"}\n",
    "\n",
    "# Prepare cumulative values for proper stacking\n",
    "years = revB4AudStata_pivot.index\n",
    "cumulative_data = np.zeros(len(years))\n",
    "\n",
    "# Sort columns to ensure the desired order: male/rank1, female/rank1, male/rank2, female/rank2, ...\n",
    "sorted_columns = sorted(\n",
    "    revB4AudStata_pivot.columns,\n",
    "    key=lambda col: (col[1], col[0])  # Sort by rank first, then by gender (male -> female)\n",
    ")\n",
    "\n",
    "# Update the legend to include only the descriptions for rank numbers\n",
    "rank_descriptions = {\n",
    "    0: \"Unknown Rank\",\n",
    "    1: \"Staff\",\n",
    "    2: \"Senior\",\n",
    "    3: \"Manager\",\n",
    "    4: \"Senior Manager\",\n",
    "    5: \"Director\",\n",
    "    6: \"Partner\"\n",
    "}\n",
    "\n",
    "fig, ax = plt.subplots(figsize=(12, 8))\n",
    "\n",
    "# Reset cumulative data for stacking\n",
    "cumulative_data = np.zeros(len(years))\n",
    "\n",
    "# Plot stacked data in the specified order\n",
    "for female, rank in sorted_columns:\n",
    "    if (female, rank) not in revB4AudStata_pivot:\n",
    "        continue  # Skip if the column is missing\n",
    "    data = revB4AudStata_pivot[(female, rank)]\n",
    "    color = female_colors[rank] if female else male_colors[rank]\n",
    "    pattern = patterns[rank]\n",
    "    ax.fill_between(\n",
    "        years,\n",
    "        cumulative_data,\n",
    "        cumulative_data + data,\n",
    "        color=color,\n",
    "        hatch=pattern,\n",
    "        edgecolor=\"black\",\n",
    "        linewidth=0.5\n",
    "    )\n",
    "    cumulative_data += data\n",
    "\n",
    "# Create legend with only rank descriptions\n",
    "handles = []\n",
    "for rank, description in rank_descriptions.items():\n",
    "    handles.append(\n",
    "        mpatches.Patch(\n",
    "            facecolor=\"white\",  # Neutral background for legend\n",
    "            edgecolor=\"black\",\n",
    "            hatch=patterns[rank],\n",
    "            label=description  # Only the description, no \"Rank X: \"\n",
    "        )\n",
    "    )\n",
    "\n",
    "# Define a function to format y-axis numbers with commas\n",
    "def format_with_commas(x, pos):\n",
    "    return f\"{int(x):,}\"\n",
    "\n",
    "# Apply the formatter to the y-axis\n",
    "ax.yaxis.set_major_formatter(FuncFormatter(format_with_commas))\n",
    "\n",
    "# Add title, labels, and legend\n",
    "plt.xlabel(\"Year\", fontsize=18)\n",
    "plt.xlim([1975, 2022])\n",
    "plt.ylabel(\"Count\", fontsize=18)\n",
    "plt.legend(handles=handles, loc=\"upper left\", fontsize=14)\n",
    "ax.tick_params(axis='x', labelsize=16)\n",
    "ax.tick_params(axis='y', labelsize=16)\n",
    "plt.tight_layout()\n",
    "\n",
    "# Save the figure\n",
    "plt.savefig(f\"{directory_stub}/Gender-public/LaTeX/Figures/stackPlot.png\", transparent=False, dpi=500, bbox_inches='tight')\n",
    "plt.show()\n"
   ]
  },
  {
   "cell_type": "code",
   "execution_count": 76,
   "metadata": {},
   "outputs": [
    {
     "name": "stdout",
     "output_type": "stream",
     "text": [
      "Status Check\n",
      "Time elapsed: 33.34 minutes\n",
      "\n"
     ]
    }
   ],
   "source": [
    "'''\n",
    "Print the time that has passed since the start of the analysis\n",
    "'''\n",
    "\n",
    "print(\"Status Check\")\n",
    "print(f'Time elapsed: {(time.time() - start_time)/60:.2f} minutes')\n",
    "print()\n"
   ]
  },
  {
   "cell_type": "markdown",
   "metadata": {},
   "source": [
    "#### .... Coefficients over time"
   ]
  },
  {
   "cell_type": "code",
   "execution_count": 77,
   "metadata": {},
   "outputs": [
    {
     "name": "stdout",
     "output_type": "stream",
     "text": [
      "Creating a plot of the coefficients over time\n"
     ]
    }
   ],
   "source": [
    "print(\"Creating a plot of the coefficients over time\")"
   ]
  },
  {
   "cell_type": "code",
   "execution_count": 78,
   "metadata": {},
   "outputs": [],
   "source": [
    "# Create dummy variables for each two-year period from 1990 to 2023\n",
    "years = list(range(1990, 2024, 2))  # two-year periods starting in 1990\n",
    "\n",
    "for start_year in years:\n",
    "    end_year = start_year + 1\n",
    "    # Create dummy: 1 if the year equals start_year or end_year, 0 otherwise\n",
    "    revB4AudStata[f'year_{start_year}_{end_year}'] = (\n",
    "        (revB4AudStata['year'] == start_year) | (revB4AudStata['year'] == end_year)\n",
    "    ).astype(int)\n",
    "\n",
    "# Create a dummy variable for all years prior to 1990\n",
    "revB4AudStata['year_pre_1990'] = (revB4AudStata['year'] < 1990).astype(int)\n",
    "\n",
    "# Create interaction terms between female and each two-year period dummy\n",
    "for start_year in years:\n",
    "    end_year = start_year + 1\n",
    "    revB4AudStata[f'female_{start_year}_{end_year}'] = (\n",
    "        revB4AudStata['female'] * revB4AudStata[f'year_{start_year}_{end_year}']\n",
    "    )\n",
    "\n",
    "# Create the interaction term between female and the pre-1990 dummy\n",
    "revB4AudStata['female_pre_1990'] = revB4AudStata['female'] * revB4AudStata['year_pre_1990']"
   ]
  },
  {
   "cell_type": "code",
   "execution_count": 79,
   "metadata": {},
   "outputs": [],
   "source": [
    "# Create dummy variables for each two-year period from 1990 to 2023\n",
    "years = list(range(1990, 2024, 2))  # two-year periods starting in 1990\n",
    "\n",
    "for start_year in years:\n",
    "    end_year = start_year + 1\n",
    "    # Create dummy: 1 if the year equals start_year or end_year, 0 otherwise\n",
    "    revOtherFsStata[f'year_{start_year}_{end_year}'] = (\n",
    "        (revOtherFsStata['year'] == start_year) | (revOtherFsStata['year'] == end_year)\n",
    "    ).astype(int)\n",
    "\n",
    "# Create a dummy variable for all years prior to 1990\n",
    "revOtherFsStata['year_pre_1990'] = (revOtherFsStata['year'] < 1990).astype(int)\n",
    "\n",
    "# Create interaction terms between female and each two-year period dummy\n",
    "for start_year in years:\n",
    "    end_year = start_year + 1\n",
    "    revOtherFsStata[f'female_{start_year}_{end_year}'] = (\n",
    "        revOtherFsStata['female'] * revOtherFsStata[f'year_{start_year}_{end_year}']\n",
    "    )\n",
    "\n",
    "# Create the interaction term between female and the pre-1990 dummy\n",
    "revOtherFsStata['female_pre_1990'] = revOtherFsStata['female'] * revOtherFsStata['year_pre_1990']"
   ]
  },
  {
   "cell_type": "code",
   "execution_count": 80,
   "metadata": {},
   "outputs": [
    {
     "data": {
      "image/png": "[encoded data removed]",
      "text/plain": [
       "<Figure size 1200x800 with 1 Axes>"
      ]
     },
     "metadata": {},
     "output_type": "display_data"
    }
   ],
   "source": [
    "# ========================================================\n",
    "# Part 1: Run regression on revB4AudStata dataset\n",
    "# ========================================================\n",
    "stata.pdataframe_to_data(revB4AudStata, force=True)\n",
    "stata.run(\n",
    "    'reghdfe retained female_1990_1991 female_1992_1993 female_1994_1995 '\n",
    "    'female_1996_1997 female_1998_1999 female_2000_2001 female_2002_2003 '\n",
    "    'female_2004_2005 female_2006_2007 female_2008_2009 female_2010_2011 '\n",
    "    'female_2012_2013 female_2014_2015 female_2016_2017 female_2018_2019 '\n",
    "    'female_2020_2021 female_2022_2023 female_pre_1990 masterorhigher top_university api black other, '\n",
    "    'absorb(auditorkey ib2000.year yearfirst) vce(cluster userid)', quietly=True\n",
    ")\n",
    "reg_results_b4aud = stata.get_ereturn()  # Extract the regression results\n",
    "\n",
    "# Extract coefficients, standard errors, and variable names for revB4AudStata\n",
    "coefficients_b4aud = reg_results_b4aud['e(b)'].flatten()  # Flatten the coefficient array\n",
    "std_errors_b4aud = reg_results_b4aud['e(V)'].diagonal()**0.5  # Standard errors\n",
    "variable_names_b4aud = reg_results_b4aud['e(indepvars)'].split()  # List of independent variable names\n",
    "\n",
    "# Variables of interest (only the 'female_' dummies)\n",
    "variables_of_interest = [\n",
    "    'female_1990_1991', 'female_1992_1993', 'female_1994_1995', 'female_1996_1997', 'female_1998_1999', \n",
    "    'female_2000_2001', 'female_2002_2003', 'female_2004_2005', 'female_2006_2007', 'female_2008_2009',\n",
    "    'female_2010_2011', 'female_2012_2013', 'female_2014_2015', 'female_2016_2017', 'female_2018_2019', \n",
    "    'female_2020_2021', 'female_2022_2023'\n",
    "]\n",
    "\n",
    "# Filter coefficients and standard errors for the variables of interest for revB4AudStata\n",
    "filtered_coefficients_b4aud = [\n",
    "    coefficients_b4aud[variable_names_b4aud.index(var)] for var in variables_of_interest\n",
    "]\n",
    "filtered_std_errors_b4aud = [\n",
    "    std_errors_b4aud[variable_names_b4aud.index(var)] for var in variables_of_interest\n",
    "]\n",
    "\n",
    "\n",
    "# ========================================================\n",
    "# Part 2: Run regression on revOtherFsStata dataset\n",
    "# ========================================================\n",
    "stata.pdataframe_to_data(revOtherFsStata, force=True)\n",
    "stata.run(\n",
    "    'reghdfe retained female_1990_1991 female_1992_1993 female_1994_1995 '\n",
    "    'female_1996_1997 female_1998_1999 female_2000_2001 female_2002_2003 '\n",
    "    'female_2004_2005 female_2006_2007 female_2008_2009 female_2010_2011 '\n",
    "    'female_2012_2013 female_2014_2015 female_2016_2017 female_2018_2019 '\n",
    "    'female_2020_2021 female_2022_2023 female_pre_1990 masterorhigher top_university api black other, '\n",
    "    'absorb(ultimate_parent_rcid ib2000.year yearfirst) vce(cluster userid)', quietly=True\n",
    ")\n",
    "reg_results_other = stata.get_ereturn()  # Extract regression results for the second dataset\n",
    "\n",
    "# Extract coefficients, standard errors, and variable names for revOtherFsStata\n",
    "coefficients_other = reg_results_other['e(b)'].flatten()\n",
    "std_errors_other = reg_results_other['e(V)'].diagonal()**0.5\n",
    "variable_names_other = reg_results_other['e(indepvars)'].split()\n",
    "\n",
    "# Filter coefficients (and optionally std errors) for the variables of interest for revOtherFsStata\n",
    "filtered_coefficients_other = [\n",
    "    coefficients_other[variable_names_other.index(var)] for var in variables_of_interest\n",
    "]\n",
    "filtered_std_errors_other = [\n",
    "    std_errors_other[variable_names_other.index(var)] for var in variables_of_interest\n",
    "]\n",
    "\n",
    "\n",
    "# ========================================================\n",
    "# Part 3: Plotting\n",
    "# ========================================================\n",
    "# Define the positions and x-axis labels for the periods\n",
    "x_positions = range(len(variables_of_interest))\n",
    "year_labels = ['1990', '', '', '', '', '2000', '', '', '', '', '2010', '', '', '', '', '2020', '']  # Only label decades\n",
    "\n",
    "plt.figure(figsize=(12, 8))\n",
    "\n",
    "# Plot the bar chart from the first regression (revB4AudStata)\n",
    "plt.bar(\n",
    "    x_positions, filtered_coefficients_b4aud, yerr=filtered_std_errors_b4aud, \n",
    "    color='#A3D4F7', edgecolor='black', capsize=5, label='Auditors'\n",
    ")\n",
    "\n",
    "# Add a horizontal line at y=0 for reference\n",
    "plt.axhline(y=0, color='gray', linestyle='--')\n",
    "\n",
    "# Overlay the coefficients from the second regression (revOtherFsStata) as a line plot with markers\n",
    "plt.plot(\n",
    "    x_positions, filtered_coefficients_other, color='red', marker='o', linestyle='-', \n",
    "    linewidth=2, label='Other Financial Service Professionals'\n",
    ")\n",
    "\n",
    "plt.xlabel('Year Range', fontsize=18)\n",
    "plt.ylabel('Effect of being female on the prob. of being retained', fontsize=18)\n",
    "plt.xticks(ticks=x_positions, labels=year_labels, rotation=0, fontsize=16)\n",
    "plt.yticks(fontsize=16)\n",
    "plt.legend()\n",
    "plt.tight_layout()\n",
    "\n",
    "# Save and show the plot\n",
    "plt.savefig(f\"{directory_stub}/Gender-public/LaTeX/Figures/femaleCoeffPlot.png\", transparent=False, dpi=500, bbox_inches='tight')\n",
    "plt.show()"
   ]
  },
  {
   "cell_type": "code",
   "execution_count": 81,
   "metadata": {},
   "outputs": [
    {
     "name": "stdout",
     "output_type": "stream",
     "text": [
      "Status Check\n",
      "Time elapsed: 62.36 minutes\n",
      "\n"
     ]
    }
   ],
   "source": [
    "'''\n",
    "Print the time that has passed since the start of the analysis\n",
    "'''\n",
    "\n",
    "print(\"Status Check\")\n",
    "print(f'Time elapsed: {(time.time() - start_time)/60:.2f} minutes')\n",
    "print()\n"
   ]
  },
  {
   "cell_type": "markdown",
   "metadata": {},
   "source": [
    "#### .... Survival curves"
   ]
  },
  {
   "cell_type": "code",
   "execution_count": 82,
   "metadata": {},
   "outputs": [
    {
     "name": "stdout",
     "output_type": "stream",
     "text": [
      "Creating survival curves\n"
     ]
    }
   ],
   "source": [
    "print(\"Creating survival curves\")"
   ]
  },
  {
   "cell_type": "code",
   "execution_count": 83,
   "metadata": {},
   "outputs": [],
   "source": [
    "# Collapse the data down to a single observation per auditor for survival analysis\n",
    "revB4AudSurv = revB4AudStata.copy()\n",
    "\n",
    "# Create a year_last variable based on the year of user_firm_enddate\n",
    "revB4AudSurv['yearlast'] = revB4AudSurv['user_firm_enddate'].dt.year\n",
    "\n",
    "revB4AudSurv = revB4AudSurv[['userid','yearfirst','yearlast','female','masterorhigher', 'top_university', 'year']]\n",
    "revB4AudSurv.drop_duplicates(subset = 'userid', inplace = True)\n",
    "\n",
    "revB4AudSurv['LOS'] = revB4AudSurv['yearlast'] - revB4AudSurv['yearfirst']\n",
    "revB4AudSurv['CENSOR'] = 1; revB4AudSurv.loc[revB4AudSurv['yearlast'] >= 2023, 'CENSOR'] = 0"
   ]
  },
  {
   "cell_type": "code",
   "execution_count": 84,
   "metadata": {},
   "outputs": [
    {
     "data": {
      "image/png": "[encoded data removed]",
      "text/plain": [
       "<Figure size 1200x800 with 1 Axes>"
      ]
     },
     "metadata": {},
     "output_type": "display_data"
    }
   ],
   "source": [
    "# Set figure size\n",
    "plt.figure(figsize=(12, 8))\n",
    "\n",
    "# Plot pre-2012 curves\n",
    "dfuse_pre = revB4AudSurv[(revB4AudSurv['year'] < 2012)]\n",
    "kmf1 = KaplanMeierFitter()\n",
    "\n",
    "T_pre = dfuse_pre['LOS']\n",
    "E_pre = dfuse_pre['CENSOR']\n",
    "\n",
    "groups_pre = revB4AudStata['female']\n",
    "i1_pre = (groups_pre == 0)\n",
    "i2_pre = (groups_pre == 1)\n",
    "\n",
    "# Plot Male - Pre 2012\n",
    "kmf1.fit(T_pre[i1_pre], E_pre[i1_pre], label='Male - Pre 2012')\n",
    "ax = kmf1.plot(color=\"#00529B\", ci_show=True, ci_alpha=0.0)  \n",
    "\n",
    "# Plot Female - Pre 2012\n",
    "kmf1.fit(T_pre[i2_pre], E_pre[i2_pre], label='Female - Pre 2012')\n",
    "kmf1.plot(ax=ax, color='green', ci_show=True, ci_alpha=0.0)  \n",
    "\n",
    "# Plot post-2012 curves\n",
    "dfuse_post = revB4AudSurv[(revB4AudSurv['year'] >= 2012)]\n",
    "\n",
    "T_post = dfuse_post['LOS']\n",
    "E_post = dfuse_post['CENSOR']\n",
    "\n",
    "groups_post = revB4AudStata['female']\n",
    "i1_post = (groups_post == 0)\n",
    "i2_post = (groups_post == 1)\n",
    "\n",
    "# Plot Male - Post 2012\n",
    "kmf1.fit(T_post[i1_post], E_post[i1_post], label='Male - Post 2012')\n",
    "kmf1.plot(ax=ax, color=\"#003366\", linestyle='--', ci_show=True, ci_alpha=0.0)  \n",
    "\n",
    "# Plot Female - Post 2012\n",
    "kmf1.fit(T_post[i2_post], E_post[i2_post], label='Female - Post 2012')\n",
    "kmf1.plot(ax=ax, color=\"green\", linestyle='--', ci_show=True, ci_alpha=0.0)  \n",
    "\n",
    "# Settings for figure appearance\n",
    "plt.xlim([1, 10])\n",
    "plt.xticks(range(0, 11), fontsize=16)\n",
    "plt.ylim([0, 1])\n",
    "plt.yticks([0, .1, .2, .3, .4, .5, .6, .7, .8, .9], fontsize=16)\n",
    "plt.xlabel('Years Since Start', fontsize=18)\n",
    "plt.ylabel('Survival Probability', fontsize=18)\n",
    "\n",
    "# Adjust the layout and add legend\n",
    "plt.tight_layout()\n",
    "plt.legend(fontsize=16, frameon=1)\n",
    "\n",
    "# Save the figure\n",
    "plt.savefig(f\"{directory_stub}/Gender-public/LaTeX/Figures/survivalCurves.png\", transparent=False, dpi=500, bbox_inches='tight')\n",
    "\n",
    "# Display the plot\n",
    "plt.show()"
   ]
  },
  {
   "cell_type": "code",
   "execution_count": 85,
   "metadata": {},
   "outputs": [
    {
     "name": "stdout",
     "output_type": "stream",
     "text": [
      "Status Check\n",
      "Time elapsed: 62.38 minutes\n",
      "\n"
     ]
    }
   ],
   "source": [
    "'''\n",
    "Print the time that has passed since the start of the analysis\n",
    "'''\n",
    "\n",
    "print(\"Status Check\")\n",
    "print(f'Time elapsed: {(time.time() - start_time)/60:.2f} minutes')\n",
    "print()\n"
   ]
  },
  {
   "cell_type": "markdown",
   "metadata": {},
   "source": [
    "# Complete"
   ]
  },
  {
   "cell_type": "code",
   "execution_count": 86,
   "metadata": {},
   "outputs": [
    {
     "name": "stdout",
     "output_type": "stream",
     "text": [
      "The analysis code is finished running. Check the LaTeX directories for tables and figures.\n"
     ]
    }
   ],
   "source": [
    "print('The analysis code is finished running. Check the LaTeX directories for tables and figures.')"
   ]
  }
 ],
 "metadata": {
  "kernelspec": {
   "display_name": "Python 3",
   "language": "python",
   "name": "python3"
  },
  "language_info": {
   "codemirror_mode": {
    "name": "ipython",
    "version": 3
   },
   "file_extension": ".py",
   "mimetype": "text/x-python",
   "name": "python",
   "nbconvert_exporter": "python",
   "pygments_lexer": "ipython3",
   "version": "3.10.12"
  }
 },
 "nbformat": 4,
 "nbformat_minor": 2
}
